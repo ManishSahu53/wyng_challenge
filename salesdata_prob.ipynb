{
 "cells": [
  {
   "cell_type": "code",
   "execution_count": 10,
   "metadata": {},
   "outputs": [],
   "source": [
    "import numpy as np\n",
    "import matplotlib.pyplot as plt\n",
    "import seaborn as sns\n",
    "%matplotlib inline"
   ]
  },
  {
   "cell_type": "code",
   "execution_count": 1,
   "metadata": {},
   "outputs": [],
   "source": [
    "import pandas as pd\n",
    "import glob\n",
    "\n",
    "path = r'C:\\Users\\Admin\\sales data' # use your path\n",
    "all_files = glob.glob(path + \"/*.csv\")\n",
    "\n",
    "li = []\n",
    "\n",
    "for filename in all_files:\n",
    "    df = pd.read_csv(filename, index_col=None, header=0)\n",
    "    li.append(df)\n",
    "\n",
    "df_sales = pd.concat(li, axis=0, ignore_index=True)"
   ]
  },
  {
   "cell_type": "code",
   "execution_count": 2,
   "metadata": {},
   "outputs": [],
   "source": [
    "df_sales=df_sales.drop_duplicates()"
   ]
  },
  {
   "cell_type": "code",
   "execution_count": 3,
   "metadata": {},
   "outputs": [
    {
     "name": "stderr",
     "output_type": "stream",
     "text": [
      "C:\\Users\\Admin\\Anaconda3\\lib\\site-packages\\pandas\\core\\indexing.py:190: SettingWithCopyWarning: \n",
      "A value is trying to be set on a copy of a slice from a DataFrame\n",
      "\n",
      "See the caveats in the documentation: http://pandas.pydata.org/pandas-docs/stable/indexing.html#indexing-view-versus-copy\n",
      "  self._setitem_with_indexer(indexer, value)\n"
     ]
    }
   ],
   "source": [
    "for i in range(0,len(df_sales)):\n",
    "     if df_sales.iloc[i]['MRP']< df_sales.iloc[i]['Sales Price']:\n",
    "        x=df_sales.iloc[i]['MRP']\n",
    "        y=df_sales.iloc[i]['Sales Price']\n",
    "        df_sales['MRP'].iloc[i]=y\n",
    "        df_sales['Sales Price'].iloc[i]=x"
   ]
  },
  {
   "cell_type": "code",
   "execution_count": 4,
   "metadata": {
    "scrolled": false
   },
   "outputs": [
    {
     "data": {
      "text/html": [
       "<div>\n",
       "<style scoped>\n",
       "    .dataframe tbody tr th:only-of-type {\n",
       "        vertical-align: middle;\n",
       "    }\n",
       "\n",
       "    .dataframe tbody tr th {\n",
       "        vertical-align: top;\n",
       "    }\n",
       "\n",
       "    .dataframe thead th {\n",
       "        text-align: right;\n",
       "    }\n",
       "</style>\n",
       "<table border=\"1\" class=\"dataframe\">\n",
       "  <thead>\n",
       "    <tr style=\"text-align: right;\">\n",
       "      <th></th>\n",
       "      <th>SKU Code</th>\n",
       "      <th>Brand Code</th>\n",
       "      <th>Category</th>\n",
       "      <th>Bill Number</th>\n",
       "      <th>Store Code</th>\n",
       "      <th>Sale Date</th>\n",
       "      <th>Sale/Return</th>\n",
       "      <th>MRP</th>\n",
       "      <th>Sales Price</th>\n",
       "      <th>Sales Qty</th>\n",
       "    </tr>\n",
       "  </thead>\n",
       "  <tbody>\n",
       "    <tr>\n",
       "      <th>0</th>\n",
       "      <td>SKU1181</td>\n",
       "      <td>BRAND041</td>\n",
       "      <td>Cat06</td>\n",
       "      <td>BILL06415</td>\n",
       "      <td>Store 1</td>\n",
       "      <td>2017-05-18</td>\n",
       "      <td>Return</td>\n",
       "      <td>0.01</td>\n",
       "      <td>0.01</td>\n",
       "      <td>-1</td>\n",
       "    </tr>\n",
       "    <tr>\n",
       "      <th>1</th>\n",
       "      <td>SKU0457</td>\n",
       "      <td>BRAND011</td>\n",
       "      <td>Cat01</td>\n",
       "      <td>BILL06416</td>\n",
       "      <td>Store 1</td>\n",
       "      <td>2017-05-22</td>\n",
       "      <td>Sale</td>\n",
       "      <td>72.67</td>\n",
       "      <td>72.00</td>\n",
       "      <td>2</td>\n",
       "    </tr>\n",
       "    <tr>\n",
       "      <th>2</th>\n",
       "      <td>SKU1465</td>\n",
       "      <td>BRAND018</td>\n",
       "      <td>Cat07</td>\n",
       "      <td>BILL06417</td>\n",
       "      <td>Store 1</td>\n",
       "      <td>2017-07-01</td>\n",
       "      <td>Return</td>\n",
       "      <td>20.00</td>\n",
       "      <td>20.00</td>\n",
       "      <td>-1</td>\n",
       "    </tr>\n",
       "    <tr>\n",
       "      <th>3</th>\n",
       "      <td>SKU0774</td>\n",
       "      <td>BRAND017</td>\n",
       "      <td>Cat07</td>\n",
       "      <td>BILL06418</td>\n",
       "      <td>Store 1</td>\n",
       "      <td>2017-07-01</td>\n",
       "      <td>Sale</td>\n",
       "      <td>30.67</td>\n",
       "      <td>30.67</td>\n",
       "      <td>1</td>\n",
       "    </tr>\n",
       "    <tr>\n",
       "      <th>4</th>\n",
       "      <td>SKU1695</td>\n",
       "      <td>BRAND017</td>\n",
       "      <td>Cat07</td>\n",
       "      <td>BILL06419</td>\n",
       "      <td>Store 1</td>\n",
       "      <td>2017-07-01</td>\n",
       "      <td>Sale</td>\n",
       "      <td>44.00</td>\n",
       "      <td>44.00</td>\n",
       "      <td>1</td>\n",
       "    </tr>\n",
       "  </tbody>\n",
       "</table>\n",
       "</div>"
      ],
      "text/plain": [
       "  SKU Code Brand Code Category Bill Number Store Code   Sale Date Sale/Return  \\\n",
       "0  SKU1181   BRAND041    Cat06   BILL06415    Store 1  2017-05-18      Return   \n",
       "1  SKU0457   BRAND011    Cat01   BILL06416    Store 1  2017-05-22        Sale   \n",
       "2  SKU1465   BRAND018    Cat07   BILL06417    Store 1  2017-07-01      Return   \n",
       "3  SKU0774   BRAND017    Cat07   BILL06418    Store 1  2017-07-01        Sale   \n",
       "4  SKU1695   BRAND017    Cat07   BILL06419    Store 1  2017-07-01        Sale   \n",
       "\n",
       "     MRP  Sales Price  Sales Qty  \n",
       "0   0.01         0.01         -1  \n",
       "1  72.67        72.00          2  \n",
       "2  20.00        20.00         -1  \n",
       "3  30.67        30.67          1  \n",
       "4  44.00        44.00          1  "
      ]
     },
     "execution_count": 4,
     "metadata": {},
     "output_type": "execute_result"
    }
   ],
   "source": [
    "df_sales.head()"
   ]
  },
  {
   "cell_type": "code",
   "execution_count": 5,
   "metadata": {},
   "outputs": [],
   "source": [
    "df_sales['Sale Date'] = pd.to_datetime(df_sales['Sale Date'])\n",
    "df_sales['Sale Year'], df_sales['Sale Month'] = df_sales['Sale Date'].dt.year, df_sales['Sale Date'].dt.month"
   ]
  },
  {
   "cell_type": "code",
   "execution_count": 6,
   "metadata": {},
   "outputs": [],
   "source": [
    "df_sales.drop(df_sales[df_sales['Sale/Return']=='Return'].index,inplace=True)"
   ]
  },
  {
   "cell_type": "code",
   "execution_count": 7,
   "metadata": {},
   "outputs": [
    {
     "data": {
      "text/html": [
       "<div>\n",
       "<style scoped>\n",
       "    .dataframe tbody tr th:only-of-type {\n",
       "        vertical-align: middle;\n",
       "    }\n",
       "\n",
       "    .dataframe tbody tr th {\n",
       "        vertical-align: top;\n",
       "    }\n",
       "\n",
       "    .dataframe thead th {\n",
       "        text-align: right;\n",
       "    }\n",
       "</style>\n",
       "<table border=\"1\" class=\"dataframe\">\n",
       "  <thead>\n",
       "    <tr style=\"text-align: right;\">\n",
       "      <th></th>\n",
       "      <th>SKU Code</th>\n",
       "      <th>Brand Code</th>\n",
       "      <th>Category</th>\n",
       "      <th>Bill Number</th>\n",
       "      <th>Store Code</th>\n",
       "      <th>Sale Date</th>\n",
       "      <th>Sale/Return</th>\n",
       "      <th>MRP</th>\n",
       "      <th>Sales Price</th>\n",
       "      <th>Sales Qty</th>\n",
       "      <th>Sale Year</th>\n",
       "      <th>Sale Month</th>\n",
       "    </tr>\n",
       "  </thead>\n",
       "  <tbody>\n",
       "    <tr>\n",
       "      <th>1</th>\n",
       "      <td>SKU0457</td>\n",
       "      <td>BRAND011</td>\n",
       "      <td>Cat01</td>\n",
       "      <td>BILL06416</td>\n",
       "      <td>Store 1</td>\n",
       "      <td>2017-05-22</td>\n",
       "      <td>Sale</td>\n",
       "      <td>72.67</td>\n",
       "      <td>72.00</td>\n",
       "      <td>2</td>\n",
       "      <td>2017</td>\n",
       "      <td>5</td>\n",
       "    </tr>\n",
       "    <tr>\n",
       "      <th>3</th>\n",
       "      <td>SKU0774</td>\n",
       "      <td>BRAND017</td>\n",
       "      <td>Cat07</td>\n",
       "      <td>BILL06418</td>\n",
       "      <td>Store 1</td>\n",
       "      <td>2017-07-01</td>\n",
       "      <td>Sale</td>\n",
       "      <td>30.67</td>\n",
       "      <td>30.67</td>\n",
       "      <td>1</td>\n",
       "      <td>2017</td>\n",
       "      <td>7</td>\n",
       "    </tr>\n",
       "    <tr>\n",
       "      <th>4</th>\n",
       "      <td>SKU1695</td>\n",
       "      <td>BRAND017</td>\n",
       "      <td>Cat07</td>\n",
       "      <td>BILL06419</td>\n",
       "      <td>Store 1</td>\n",
       "      <td>2017-07-01</td>\n",
       "      <td>Sale</td>\n",
       "      <td>44.00</td>\n",
       "      <td>44.00</td>\n",
       "      <td>1</td>\n",
       "      <td>2017</td>\n",
       "      <td>7</td>\n",
       "    </tr>\n",
       "    <tr>\n",
       "      <th>5</th>\n",
       "      <td>SKU1886</td>\n",
       "      <td>BRAND046</td>\n",
       "      <td>Cat04</td>\n",
       "      <td>BILL06420</td>\n",
       "      <td>Store 1</td>\n",
       "      <td>2017-07-01</td>\n",
       "      <td>Sale</td>\n",
       "      <td>66.33</td>\n",
       "      <td>66.33</td>\n",
       "      <td>1</td>\n",
       "      <td>2017</td>\n",
       "      <td>7</td>\n",
       "    </tr>\n",
       "    <tr>\n",
       "      <th>6</th>\n",
       "      <td>SKU0906</td>\n",
       "      <td>BRAND017</td>\n",
       "      <td>Cat07</td>\n",
       "      <td>BILL06421</td>\n",
       "      <td>Store 1</td>\n",
       "      <td>2017-07-01</td>\n",
       "      <td>Sale</td>\n",
       "      <td>44.00</td>\n",
       "      <td>44.00</td>\n",
       "      <td>1</td>\n",
       "      <td>2017</td>\n",
       "      <td>7</td>\n",
       "    </tr>\n",
       "  </tbody>\n",
       "</table>\n",
       "</div>"
      ],
      "text/plain": [
       "  SKU Code Brand Code Category Bill Number Store Code  Sale Date Sale/Return  \\\n",
       "1  SKU0457   BRAND011    Cat01   BILL06416    Store 1 2017-05-22        Sale   \n",
       "3  SKU0774   BRAND017    Cat07   BILL06418    Store 1 2017-07-01        Sale   \n",
       "4  SKU1695   BRAND017    Cat07   BILL06419    Store 1 2017-07-01        Sale   \n",
       "5  SKU1886   BRAND046    Cat04   BILL06420    Store 1 2017-07-01        Sale   \n",
       "6  SKU0906   BRAND017    Cat07   BILL06421    Store 1 2017-07-01        Sale   \n",
       "\n",
       "     MRP  Sales Price  Sales Qty  Sale Year  Sale Month  \n",
       "1  72.67        72.00          2       2017           5  \n",
       "3  30.67        30.67          1       2017           7  \n",
       "4  44.00        44.00          1       2017           7  \n",
       "5  66.33        66.33          1       2017           7  \n",
       "6  44.00        44.00          1       2017           7  "
      ]
     },
     "execution_count": 7,
     "metadata": {},
     "output_type": "execute_result"
    }
   ],
   "source": [
    "df_sales.head()"
   ]
  },
  {
   "cell_type": "code",
   "execution_count": 8,
   "metadata": {},
   "outputs": [],
   "source": [
    "df_sales['Discount']=(df_sales['MRP']-df_sales['Sales Price'])*100/df_sales['MRP']"
   ]
  },
  {
   "cell_type": "code",
   "execution_count": 9,
   "metadata": {},
   "outputs": [
    {
     "data": {
      "text/html": [
       "<div>\n",
       "<style scoped>\n",
       "    .dataframe tbody tr th:only-of-type {\n",
       "        vertical-align: middle;\n",
       "    }\n",
       "\n",
       "    .dataframe tbody tr th {\n",
       "        vertical-align: top;\n",
       "    }\n",
       "\n",
       "    .dataframe thead th {\n",
       "        text-align: right;\n",
       "    }\n",
       "</style>\n",
       "<table border=\"1\" class=\"dataframe\">\n",
       "  <thead>\n",
       "    <tr style=\"text-align: right;\">\n",
       "      <th></th>\n",
       "      <th>SKU Code</th>\n",
       "      <th>Brand Code</th>\n",
       "      <th>Category</th>\n",
       "      <th>Bill Number</th>\n",
       "      <th>Store Code</th>\n",
       "      <th>Sale Date</th>\n",
       "      <th>Sale/Return</th>\n",
       "      <th>MRP</th>\n",
       "      <th>Sales Price</th>\n",
       "      <th>Sales Qty</th>\n",
       "      <th>Sale Year</th>\n",
       "      <th>Sale Month</th>\n",
       "      <th>Discount</th>\n",
       "    </tr>\n",
       "  </thead>\n",
       "  <tbody>\n",
       "    <tr>\n",
       "      <th>1</th>\n",
       "      <td>SKU0457</td>\n",
       "      <td>BRAND011</td>\n",
       "      <td>Cat01</td>\n",
       "      <td>BILL06416</td>\n",
       "      <td>Store 1</td>\n",
       "      <td>2017-05-22</td>\n",
       "      <td>Sale</td>\n",
       "      <td>72.67</td>\n",
       "      <td>72.00</td>\n",
       "      <td>2</td>\n",
       "      <td>2017</td>\n",
       "      <td>5</td>\n",
       "      <td>0.921976</td>\n",
       "    </tr>\n",
       "    <tr>\n",
       "      <th>3</th>\n",
       "      <td>SKU0774</td>\n",
       "      <td>BRAND017</td>\n",
       "      <td>Cat07</td>\n",
       "      <td>BILL06418</td>\n",
       "      <td>Store 1</td>\n",
       "      <td>2017-07-01</td>\n",
       "      <td>Sale</td>\n",
       "      <td>30.67</td>\n",
       "      <td>30.67</td>\n",
       "      <td>1</td>\n",
       "      <td>2017</td>\n",
       "      <td>7</td>\n",
       "      <td>0.000000</td>\n",
       "    </tr>\n",
       "    <tr>\n",
       "      <th>4</th>\n",
       "      <td>SKU1695</td>\n",
       "      <td>BRAND017</td>\n",
       "      <td>Cat07</td>\n",
       "      <td>BILL06419</td>\n",
       "      <td>Store 1</td>\n",
       "      <td>2017-07-01</td>\n",
       "      <td>Sale</td>\n",
       "      <td>44.00</td>\n",
       "      <td>44.00</td>\n",
       "      <td>1</td>\n",
       "      <td>2017</td>\n",
       "      <td>7</td>\n",
       "      <td>0.000000</td>\n",
       "    </tr>\n",
       "    <tr>\n",
       "      <th>5</th>\n",
       "      <td>SKU1886</td>\n",
       "      <td>BRAND046</td>\n",
       "      <td>Cat04</td>\n",
       "      <td>BILL06420</td>\n",
       "      <td>Store 1</td>\n",
       "      <td>2017-07-01</td>\n",
       "      <td>Sale</td>\n",
       "      <td>66.33</td>\n",
       "      <td>66.33</td>\n",
       "      <td>1</td>\n",
       "      <td>2017</td>\n",
       "      <td>7</td>\n",
       "      <td>0.000000</td>\n",
       "    </tr>\n",
       "    <tr>\n",
       "      <th>6</th>\n",
       "      <td>SKU0906</td>\n",
       "      <td>BRAND017</td>\n",
       "      <td>Cat07</td>\n",
       "      <td>BILL06421</td>\n",
       "      <td>Store 1</td>\n",
       "      <td>2017-07-01</td>\n",
       "      <td>Sale</td>\n",
       "      <td>44.00</td>\n",
       "      <td>44.00</td>\n",
       "      <td>1</td>\n",
       "      <td>2017</td>\n",
       "      <td>7</td>\n",
       "      <td>0.000000</td>\n",
       "    </tr>\n",
       "  </tbody>\n",
       "</table>\n",
       "</div>"
      ],
      "text/plain": [
       "  SKU Code Brand Code Category Bill Number Store Code  Sale Date Sale/Return  \\\n",
       "1  SKU0457   BRAND011    Cat01   BILL06416    Store 1 2017-05-22        Sale   \n",
       "3  SKU0774   BRAND017    Cat07   BILL06418    Store 1 2017-07-01        Sale   \n",
       "4  SKU1695   BRAND017    Cat07   BILL06419    Store 1 2017-07-01        Sale   \n",
       "5  SKU1886   BRAND046    Cat04   BILL06420    Store 1 2017-07-01        Sale   \n",
       "6  SKU0906   BRAND017    Cat07   BILL06421    Store 1 2017-07-01        Sale   \n",
       "\n",
       "     MRP  Sales Price  Sales Qty  Sale Year  Sale Month  Discount  \n",
       "1  72.67        72.00          2       2017           5  0.921976  \n",
       "3  30.67        30.67          1       2017           7  0.000000  \n",
       "4  44.00        44.00          1       2017           7  0.000000  \n",
       "5  66.33        66.33          1       2017           7  0.000000  \n",
       "6  44.00        44.00          1       2017           7  0.000000  "
      ]
     },
     "execution_count": 9,
     "metadata": {},
     "output_type": "execute_result"
    }
   ],
   "source": [
    "df_sales.head()"
   ]
  },
  {
   "cell_type": "code",
   "execution_count": 14,
   "metadata": {},
   "outputs": [
    {
     "data": {
      "text/html": [
       "<div>\n",
       "<style scoped>\n",
       "    .dataframe tbody tr th:only-of-type {\n",
       "        vertical-align: middle;\n",
       "    }\n",
       "\n",
       "    .dataframe tbody tr th {\n",
       "        vertical-align: top;\n",
       "    }\n",
       "\n",
       "    .dataframe thead th {\n",
       "        text-align: right;\n",
       "    }\n",
       "</style>\n",
       "<table border=\"1\" class=\"dataframe\">\n",
       "  <thead>\n",
       "    <tr style=\"text-align: right;\">\n",
       "      <th></th>\n",
       "      <th>MRP</th>\n",
       "      <th>Sales Price</th>\n",
       "      <th>Sales Qty</th>\n",
       "      <th>Sale Year</th>\n",
       "      <th>Sale Month</th>\n",
       "      <th>Discount</th>\n",
       "    </tr>\n",
       "  </thead>\n",
       "  <tbody>\n",
       "    <tr>\n",
       "      <th>count</th>\n",
       "      <td>55822.000000</td>\n",
       "      <td>55822.000000</td>\n",
       "      <td>55822.000000</td>\n",
       "      <td>55822.000000</td>\n",
       "      <td>55822.000000</td>\n",
       "      <td>55185.000000</td>\n",
       "    </tr>\n",
       "    <tr>\n",
       "      <th>mean</th>\n",
       "      <td>19.941851</td>\n",
       "      <td>19.487808</td>\n",
       "      <td>1.044463</td>\n",
       "      <td>2017.245835</td>\n",
       "      <td>7.120562</td>\n",
       "      <td>8.403112</td>\n",
       "    </tr>\n",
       "    <tr>\n",
       "      <th>std</th>\n",
       "      <td>26.400966</td>\n",
       "      <td>26.166727</td>\n",
       "      <td>0.307192</td>\n",
       "      <td>0.430585</td>\n",
       "      <td>4.078968</td>\n",
       "      <td>26.078279</td>\n",
       "    </tr>\n",
       "    <tr>\n",
       "      <th>min</th>\n",
       "      <td>0.000000</td>\n",
       "      <td>0.000000</td>\n",
       "      <td>0.000000</td>\n",
       "      <td>2017.000000</td>\n",
       "      <td>1.000000</td>\n",
       "      <td>0.000000</td>\n",
       "    </tr>\n",
       "    <tr>\n",
       "      <th>25%</th>\n",
       "      <td>1.330000</td>\n",
       "      <td>1.330000</td>\n",
       "      <td>1.000000</td>\n",
       "      <td>2017.000000</td>\n",
       "      <td>2.000000</td>\n",
       "      <td>0.000000</td>\n",
       "    </tr>\n",
       "    <tr>\n",
       "      <th>50%</th>\n",
       "      <td>7.670000</td>\n",
       "      <td>7.330000</td>\n",
       "      <td>1.000000</td>\n",
       "      <td>2017.000000</td>\n",
       "      <td>9.000000</td>\n",
       "      <td>0.000000</td>\n",
       "    </tr>\n",
       "    <tr>\n",
       "      <th>75%</th>\n",
       "      <td>27.330000</td>\n",
       "      <td>26.530000</td>\n",
       "      <td>1.000000</td>\n",
       "      <td>2017.000000</td>\n",
       "      <td>11.000000</td>\n",
       "      <td>0.000000</td>\n",
       "    </tr>\n",
       "    <tr>\n",
       "      <th>max</th>\n",
       "      <td>213.320000</td>\n",
       "      <td>213.320000</td>\n",
       "      <td>8.000000</td>\n",
       "      <td>2018.000000</td>\n",
       "      <td>12.000000</td>\n",
       "      <td>100.000000</td>\n",
       "    </tr>\n",
       "  </tbody>\n",
       "</table>\n",
       "</div>"
      ],
      "text/plain": [
       "                MRP   Sales Price     Sales Qty     Sale Year    Sale Month  \\\n",
       "count  55822.000000  55822.000000  55822.000000  55822.000000  55822.000000   \n",
       "mean      19.941851     19.487808      1.044463   2017.245835      7.120562   \n",
       "std       26.400966     26.166727      0.307192      0.430585      4.078968   \n",
       "min        0.000000      0.000000      0.000000   2017.000000      1.000000   \n",
       "25%        1.330000      1.330000      1.000000   2017.000000      2.000000   \n",
       "50%        7.670000      7.330000      1.000000   2017.000000      9.000000   \n",
       "75%       27.330000     26.530000      1.000000   2017.000000     11.000000   \n",
       "max      213.320000    213.320000      8.000000   2018.000000     12.000000   \n",
       "\n",
       "           Discount  \n",
       "count  55185.000000  \n",
       "mean       8.403112  \n",
       "std       26.078279  \n",
       "min        0.000000  \n",
       "25%        0.000000  \n",
       "50%        0.000000  \n",
       "75%        0.000000  \n",
       "max      100.000000  "
      ]
     },
     "execution_count": 14,
     "metadata": {},
     "output_type": "execute_result"
    }
   ],
   "source": [
    "df_sales.describe()"
   ]
  },
  {
   "cell_type": "code",
   "execution_count": 17,
   "metadata": {},
   "outputs": [
    {
     "name": "stdout",
     "output_type": "stream",
     "text": [
      "4278 186 11 27114 6\n"
     ]
    }
   ],
   "source": [
    "print(df_sales['SKU Code'].nunique(),df_sales['Brand Code'].nunique(),df_sales['Category'].nunique(),df_sales['Bill Number'].nunique(),df_sales['Store Code'].nunique())"
   ]
  },
  {
   "cell_type": "code",
   "execution_count": 19,
   "metadata": {},
   "outputs": [
    {
     "data": {
      "text/plain": [
       "array([ 5,  7,  8,  6,  9, 10, 11, 12,  1,  2,  3,  4], dtype=int64)"
      ]
     },
     "execution_count": 19,
     "metadata": {},
     "output_type": "execute_result"
    }
   ],
   "source": [
    "df_sales['Sale Month'].unique()\n"
   ]
  },
  {
   "cell_type": "code",
   "execution_count": 20,
   "metadata": {},
   "outputs": [],
   "source": [
    "df_5=df_sales[df_sales['Store Code']=='Store 5']"
   ]
  },
  {
   "cell_type": "code",
   "execution_count": 37,
   "metadata": {},
   "outputs": [
    {
     "data": {
      "text/plain": [
       "array([37, 38, 39, 40, 26, 27, 28, 30, 31, 32, 33, 34, 35, 36, 52,  1,  2,\n",
       "        3,  4,  5,  6,  7,  8,  9, 10, 11, 12, 13, 14, 15, 16, 17, 18, 19,\n",
       "       20, 21, 22, 23, 24, 25, 29, 41, 42, 43, 44, 45, 46, 47, 48, 49, 50,\n",
       "       51], dtype=int64)"
      ]
     },
     "execution_count": 37,
     "metadata": {},
     "output_type": "execute_result"
    }
   ],
   "source": [
    "df_5[df_5['Sale Year']==2017]['week'].unique()"
   ]
  },
  {
   "cell_type": "code",
   "execution_count": 27,
   "metadata": {},
   "outputs": [
    {
     "name": "stderr",
     "output_type": "stream",
     "text": [
      "C:\\Users\\Admin\\Anaconda3\\lib\\site-packages\\ipykernel_launcher.py:1: SettingWithCopyWarning: \n",
      "A value is trying to be set on a copy of a slice from a DataFrame.\n",
      "Try using .loc[row_indexer,col_indexer] = value instead\n",
      "\n",
      "See the caveats in the documentation: http://pandas.pydata.org/pandas-docs/stable/indexing.html#indexing-view-versus-copy\n",
      "  \"\"\"Entry point for launching an IPython kernel.\n"
     ]
    }
   ],
   "source": [
    "df_5['week']=df_5['Sale Date'].dt.week\n",
    "        \n",
    "        \n",
    "        "
   ]
  },
  {
   "cell_type": "code",
   "execution_count": 35,
   "metadata": {},
   "outputs": [
    {
     "name": "stderr",
     "output_type": "stream",
     "text": [
      "C:\\Users\\Admin\\Anaconda3\\lib\\site-packages\\pandas\\core\\indexing.py:190: SettingWithCopyWarning: \n",
      "A value is trying to be set on a copy of a slice from a DataFrame\n",
      "\n",
      "See the caveats in the documentation: http://pandas.pydata.org/pandas-docs/stable/indexing.html#indexing-view-versus-copy\n",
      "  self._setitem_with_indexer(indexer, value)\n",
      "C:\\Users\\Admin\\Anaconda3\\lib\\site-packages\\ipykernel_launcher.py:1: SettingWithCopyWarning: \n",
      "A value is trying to be set on a copy of a slice from a DataFrame\n",
      "\n",
      "See the caveats in the documentation: http://pandas.pydata.org/pandas-docs/stable/indexing.html#indexing-view-versus-copy\n",
      "  \"\"\"Entry point for launching an IPython kernel.\n"
     ]
    }
   ],
   "source": [
    "df_5['week'].loc[ df_5['Sale Year']==2018]= df_5['week']+52"
   ]
  },
  {
   "cell_type": "code",
   "execution_count": 45,
   "metadata": {},
   "outputs": [],
   "source": [
    "df5_grp=df_5.groupby('week').nunique()"
   ]
  },
  {
   "cell_type": "code",
   "execution_count": 54,
   "metadata": {},
   "outputs": [],
   "source": [
    "df5_grp.drop(['Store Code','Sale Date','Sale/Return','MRP','Sales Price','Sales Qty','Sale Year','Sale Month','Discount'],inplace=True,axis=1)"
   ]
  },
  {
   "cell_type": "code",
   "execution_count": 70,
   "metadata": {},
   "outputs": [],
   "source": [
    "df5_grp[['MRP','Sales Price','Discount']]=df_5.groupby('week').mean()[['MRP','Sales Price','Discount']]"
   ]
  },
  {
   "cell_type": "code",
   "execution_count": 72,
   "metadata": {},
   "outputs": [],
   "source": [
    "df5_grp['Sales Qty']=df_5.groupby('week').sum()['Sales Qty']"
   ]
  },
  {
   "cell_type": "code",
   "execution_count": 75,
   "metadata": {},
   "outputs": [
    {
     "data": {
      "text/html": [
       "<div>\n",
       "<style scoped>\n",
       "    .dataframe tbody tr th:only-of-type {\n",
       "        vertical-align: middle;\n",
       "    }\n",
       "\n",
       "    .dataframe tbody tr th {\n",
       "        vertical-align: top;\n",
       "    }\n",
       "\n",
       "    .dataframe thead th {\n",
       "        text-align: right;\n",
       "    }\n",
       "</style>\n",
       "<table border=\"1\" class=\"dataframe\">\n",
       "  <thead>\n",
       "    <tr style=\"text-align: right;\">\n",
       "      <th></th>\n",
       "      <th>SKU Code</th>\n",
       "      <th>Brand Code</th>\n",
       "      <th>Category</th>\n",
       "      <th>Bill Number</th>\n",
       "      <th>Store Code</th>\n",
       "      <th>Sale Date</th>\n",
       "      <th>Sale/Return</th>\n",
       "      <th>MRP</th>\n",
       "      <th>Sales Price</th>\n",
       "      <th>Sales Qty</th>\n",
       "      <th>Sale Year</th>\n",
       "      <th>Sale Month</th>\n",
       "      <th>Discount</th>\n",
       "      <th>week</th>\n",
       "    </tr>\n",
       "  </thead>\n",
       "  <tbody>\n",
       "    <tr>\n",
       "      <th>41407</th>\n",
       "      <td>SKU0729</td>\n",
       "      <td>BRAND017</td>\n",
       "      <td>Cat07</td>\n",
       "      <td>BILL02591</td>\n",
       "      <td>Store 5</td>\n",
       "      <td>2017-09-16</td>\n",
       "      <td>Sale</td>\n",
       "      <td>25.33</td>\n",
       "      <td>25.33</td>\n",
       "      <td>1</td>\n",
       "      <td>2017</td>\n",
       "      <td>9</td>\n",
       "      <td>0.0</td>\n",
       "      <td>37</td>\n",
       "    </tr>\n",
       "    <tr>\n",
       "      <th>41408</th>\n",
       "      <td>SKU0624</td>\n",
       "      <td>BRAND027</td>\n",
       "      <td>Cat04</td>\n",
       "      <td>BILL02592</td>\n",
       "      <td>Store 5</td>\n",
       "      <td>2017-09-16</td>\n",
       "      <td>Sale</td>\n",
       "      <td>2.00</td>\n",
       "      <td>2.00</td>\n",
       "      <td>1</td>\n",
       "      <td>2017</td>\n",
       "      <td>9</td>\n",
       "      <td>0.0</td>\n",
       "      <td>37</td>\n",
       "    </tr>\n",
       "    <tr>\n",
       "      <th>41409</th>\n",
       "      <td>SKU0650</td>\n",
       "      <td>BRAND027</td>\n",
       "      <td>Cat04</td>\n",
       "      <td>BILL02592</td>\n",
       "      <td>Store 5</td>\n",
       "      <td>2017-09-16</td>\n",
       "      <td>Sale</td>\n",
       "      <td>1.33</td>\n",
       "      <td>1.33</td>\n",
       "      <td>1</td>\n",
       "      <td>2017</td>\n",
       "      <td>9</td>\n",
       "      <td>0.0</td>\n",
       "      <td>37</td>\n",
       "    </tr>\n",
       "    <tr>\n",
       "      <th>41410</th>\n",
       "      <td>SKU0730</td>\n",
       "      <td>BRAND018</td>\n",
       "      <td>Cat04</td>\n",
       "      <td>BILL02593</td>\n",
       "      <td>Store 5</td>\n",
       "      <td>2017-09-16</td>\n",
       "      <td>Sale</td>\n",
       "      <td>24.67</td>\n",
       "      <td>24.67</td>\n",
       "      <td>1</td>\n",
       "      <td>2017</td>\n",
       "      <td>9</td>\n",
       "      <td>0.0</td>\n",
       "      <td>37</td>\n",
       "    </tr>\n",
       "    <tr>\n",
       "      <th>41411</th>\n",
       "      <td>SKU0731</td>\n",
       "      <td>BRAND018</td>\n",
       "      <td>Cat04</td>\n",
       "      <td>BILL02593</td>\n",
       "      <td>Store 5</td>\n",
       "      <td>2017-09-16</td>\n",
       "      <td>Sale</td>\n",
       "      <td>20.67</td>\n",
       "      <td>20.67</td>\n",
       "      <td>1</td>\n",
       "      <td>2017</td>\n",
       "      <td>9</td>\n",
       "      <td>0.0</td>\n",
       "      <td>37</td>\n",
       "    </tr>\n",
       "  </tbody>\n",
       "</table>\n",
       "</div>"
      ],
      "text/plain": [
       "      SKU Code Brand Code Category Bill Number Store Code  Sale Date  \\\n",
       "41407  SKU0729   BRAND017    Cat07   BILL02591    Store 5 2017-09-16   \n",
       "41408  SKU0624   BRAND027    Cat04   BILL02592    Store 5 2017-09-16   \n",
       "41409  SKU0650   BRAND027    Cat04   BILL02592    Store 5 2017-09-16   \n",
       "41410  SKU0730   BRAND018    Cat04   BILL02593    Store 5 2017-09-16   \n",
       "41411  SKU0731   BRAND018    Cat04   BILL02593    Store 5 2017-09-16   \n",
       "\n",
       "      Sale/Return    MRP  Sales Price  Sales Qty  Sale Year  Sale Month  \\\n",
       "41407        Sale  25.33        25.33          1       2017           9   \n",
       "41408        Sale   2.00         2.00          1       2017           9   \n",
       "41409        Sale   1.33         1.33          1       2017           9   \n",
       "41410        Sale  24.67        24.67          1       2017           9   \n",
       "41411        Sale  20.67        20.67          1       2017           9   \n",
       "\n",
       "       Discount  week  \n",
       "41407       0.0    37  \n",
       "41408       0.0    37  \n",
       "41409       0.0    37  \n",
       "41410       0.0    37  \n",
       "41411       0.0    37  "
      ]
     },
     "execution_count": 75,
     "metadata": {},
     "output_type": "execute_result"
    }
   ],
   "source": [
    "df_5.head()"
   ]
  },
  {
   "cell_type": "code",
   "execution_count": 78,
   "metadata": {},
   "outputs": [
    {
     "data": {
      "text/html": [
       "<div>\n",
       "<style scoped>\n",
       "    .dataframe tbody tr th:only-of-type {\n",
       "        vertical-align: middle;\n",
       "    }\n",
       "\n",
       "    .dataframe tbody tr th {\n",
       "        vertical-align: top;\n",
       "    }\n",
       "\n",
       "    .dataframe thead th {\n",
       "        text-align: right;\n",
       "    }\n",
       "</style>\n",
       "<table border=\"1\" class=\"dataframe\">\n",
       "  <thead>\n",
       "    <tr style=\"text-align: right;\">\n",
       "      <th></th>\n",
       "      <th>week</th>\n",
       "      <th>SKU Code</th>\n",
       "      <th>Brand Code</th>\n",
       "      <th>Category</th>\n",
       "      <th>Bill Number</th>\n",
       "      <th>MRP</th>\n",
       "      <th>Sales Price</th>\n",
       "      <th>Discount</th>\n",
       "      <th>Sales Qty</th>\n",
       "    </tr>\n",
       "  </thead>\n",
       "  <tbody>\n",
       "    <tr>\n",
       "      <th>0</th>\n",
       "      <td>1</td>\n",
       "      <td>44</td>\n",
       "      <td>15</td>\n",
       "      <td>4</td>\n",
       "      <td>33</td>\n",
       "      <td>50.056667</td>\n",
       "      <td>50.056667</td>\n",
       "      <td>0.000000</td>\n",
       "      <td>45</td>\n",
       "    </tr>\n",
       "    <tr>\n",
       "      <th>1</th>\n",
       "      <td>2</td>\n",
       "      <td>60</td>\n",
       "      <td>17</td>\n",
       "      <td>4</td>\n",
       "      <td>55</td>\n",
       "      <td>51.020000</td>\n",
       "      <td>50.202267</td>\n",
       "      <td>1.563594</td>\n",
       "      <td>75</td>\n",
       "    </tr>\n",
       "    <tr>\n",
       "      <th>2</th>\n",
       "      <td>3</td>\n",
       "      <td>92</td>\n",
       "      <td>18</td>\n",
       "      <td>7</td>\n",
       "      <td>91</td>\n",
       "      <td>49.026667</td>\n",
       "      <td>43.450833</td>\n",
       "      <td>8.130081</td>\n",
       "      <td>133</td>\n",
       "    </tr>\n",
       "    <tr>\n",
       "      <th>3</th>\n",
       "      <td>4</td>\n",
       "      <td>87</td>\n",
       "      <td>14</td>\n",
       "      <td>3</td>\n",
       "      <td>62</td>\n",
       "      <td>39.926964</td>\n",
       "      <td>37.629375</td>\n",
       "      <td>3.571429</td>\n",
       "      <td>112</td>\n",
       "    </tr>\n",
       "    <tr>\n",
       "      <th>4</th>\n",
       "      <td>5</td>\n",
       "      <td>59</td>\n",
       "      <td>17</td>\n",
       "      <td>5</td>\n",
       "      <td>48</td>\n",
       "      <td>42.046857</td>\n",
       "      <td>39.989714</td>\n",
       "      <td>2.857143</td>\n",
       "      <td>70</td>\n",
       "    </tr>\n",
       "  </tbody>\n",
       "</table>\n",
       "</div>"
      ],
      "text/plain": [
       "   week  SKU Code  Brand Code  Category  Bill Number        MRP  Sales Price  \\\n",
       "0     1        44          15         4           33  50.056667    50.056667   \n",
       "1     2        60          17         4           55  51.020000    50.202267   \n",
       "2     3        92          18         7           91  49.026667    43.450833   \n",
       "3     4        87          14         3           62  39.926964    37.629375   \n",
       "4     5        59          17         5           48  42.046857    39.989714   \n",
       "\n",
       "   Discount  Sales Qty  \n",
       "0  0.000000         45  \n",
       "1  1.563594         75  \n",
       "2  8.130081        133  \n",
       "3  3.571429        112  \n",
       "4  2.857143         70  "
      ]
     },
     "execution_count": 78,
     "metadata": {},
     "output_type": "execute_result"
    }
   ],
   "source": [
    "df5_grp.head()"
   ]
  },
  {
   "cell_type": "code",
   "execution_count": 103,
   "metadata": {},
   "outputs": [],
   "source": [
    "X=df5_grp.iloc[:,:-1].values\n",
    "y=df5_grp.iloc[:,[8]].values"
   ]
  },
  {
   "cell_type": "code",
   "execution_count": 104,
   "metadata": {},
   "outputs": [
    {
     "data": {
      "text/plain": [
       "array([[1.00000000e+00, 1.00000000e+00, 4.40000000e+01, 1.50000000e+01,\n",
       "        4.00000000e+00, 3.30000000e+01, 5.00566667e+01, 5.00566667e+01,\n",
       "        0.00000000e+00],\n",
       "       [1.00000000e+00, 2.00000000e+00, 6.00000000e+01, 1.70000000e+01,\n",
       "        4.00000000e+00, 5.50000000e+01, 5.10200000e+01, 5.02022667e+01,\n",
       "        1.56359445e+00],\n",
       "       [1.00000000e+00, 3.00000000e+00, 9.20000000e+01, 1.80000000e+01,\n",
       "        7.00000000e+00, 9.10000000e+01, 4.90266667e+01, 4.34508333e+01,\n",
       "        8.13008130e+00],\n",
       "       [1.00000000e+00, 4.00000000e+00, 8.70000000e+01, 1.40000000e+01,\n",
       "        3.00000000e+00, 6.20000000e+01, 3.99269643e+01, 3.76293750e+01,\n",
       "        3.57142857e+00],\n",
       "       [1.00000000e+00, 5.00000000e+00, 5.90000000e+01, 1.70000000e+01,\n",
       "        5.00000000e+00, 4.80000000e+01, 4.20468571e+01, 3.99897143e+01,\n",
       "        2.85714286e+00],\n",
       "       [1.00000000e+00, 6.00000000e+00, 1.39000000e+02, 1.70000000e+01,\n",
       "        6.00000000e+00, 8.50000000e+01, 3.88290964e+01, 3.76403614e+01,\n",
       "        1.80722892e+00],\n",
       "       [1.00000000e+00, 7.00000000e+00, 1.71000000e+02, 1.90000000e+01,\n",
       "        5.00000000e+00, 1.35000000e+02, 3.09962389e+01, 3.06127434e+01,\n",
       "        4.42477876e-01],\n",
       "       [1.00000000e+00, 8.00000000e+00, 1.46000000e+02, 2.00000000e+01,\n",
       "        6.00000000e+00, 1.09000000e+02, 3.20896237e+01, 2.99211828e+01,\n",
       "        3.22580645e+00],\n",
       "       [1.00000000e+00, 9.00000000e+00, 1.46000000e+02, 1.60000000e+01,\n",
       "        6.00000000e+00, 1.17000000e+02, 2.89111364e+01, 2.71051136e+01,\n",
       "        3.40909091e+00],\n",
       "       [1.00000000e+00, 1.00000000e+01, 1.15000000e+02, 1.90000000e+01,\n",
       "        4.00000000e+00, 8.00000000e+01, 3.41251515e+01, 3.14887121e+01,\n",
       "        3.78787879e+00],\n",
       "       [1.00000000e+00, 1.10000000e+01, 1.65000000e+02, 1.60000000e+01,\n",
       "        6.00000000e+00, 1.18000000e+02, 2.80052174e+01, 2.70454589e+01,\n",
       "        1.49364320e+00],\n",
       "       [1.00000000e+00, 1.20000000e+01, 1.38000000e+02, 1.60000000e+01,\n",
       "        7.00000000e+00, 8.90000000e+01, 3.50263636e+01, 3.46367532e+01,\n",
       "        6.53594771e-01],\n",
       "       [1.00000000e+00, 1.30000000e+01, 1.30000000e+02, 1.80000000e+01,\n",
       "        4.00000000e+00, 8.60000000e+01, 3.46180519e+01, 3.31635065e+01,\n",
       "        1.94805195e+00],\n",
       "       [1.00000000e+00, 1.40000000e+01, 1.34000000e+02, 1.90000000e+01,\n",
       "        5.00000000e+00, 8.60000000e+01, 3.20466879e+01, 3.17664331e+01,\n",
       "        6.36942675e-01],\n",
       "       [1.00000000e+00, 1.50000000e+01, 1.45000000e+02, 1.80000000e+01,\n",
       "        5.00000000e+00, 9.60000000e+01, 3.44953571e+01, 3.22730952e+01,\n",
       "        3.02317987e+00],\n",
       "       [1.00000000e+00, 1.60000000e+01, 1.05000000e+02, 1.80000000e+01,\n",
       "        4.00000000e+00, 7.90000000e+01, 3.33322881e+01, 3.07107627e+01,\n",
       "        3.38983051e+00],\n",
       "       [1.00000000e+00, 1.70000000e+01, 1.23000000e+02, 2.00000000e+01,\n",
       "        4.00000000e+00, 8.10000000e+01, 3.61742754e+01, 3.55172464e+01,\n",
       "        7.24637681e-01],\n",
       "       [1.00000000e+00, 1.80000000e+01, 1.15000000e+02, 1.60000000e+01,\n",
       "        4.00000000e+00, 6.90000000e+01, 3.51691057e+01, 3.49034959e+01,\n",
       "        8.13008130e-01],\n",
       "       [1.00000000e+00, 1.90000000e+01, 9.40000000e+01, 1.40000000e+01,\n",
       "        4.00000000e+00, 7.50000000e+01, 3.91653704e+01, 3.76222222e+01,\n",
       "        1.93159667e+00],\n",
       "       [1.00000000e+00, 2.00000000e+01, 7.70000000e+01, 1.60000000e+01,\n",
       "        5.00000000e+00, 6.20000000e+01, 3.94003448e+01, 3.94003448e+01,\n",
       "        0.00000000e+00],\n",
       "       [1.00000000e+00, 2.10000000e+01, 1.14000000e+02, 1.50000000e+01,\n",
       "        5.00000000e+00, 9.70000000e+01, 2.79050980e+01, 2.78353595e+01,\n",
       "        1.27562762e-01],\n",
       "       [1.00000000e+00, 2.20000000e+01, 1.10000000e+02, 1.40000000e+01,\n",
       "        5.00000000e+00, 9.70000000e+01, 3.53582394e+01, 3.53582394e+01,\n",
       "        0.00000000e+00],\n",
       "       [1.00000000e+00, 2.30000000e+01, 1.19000000e+02, 2.00000000e+01,\n",
       "        6.00000000e+00, 8.70000000e+01, 3.63723448e+01, 3.63723448e+01,\n",
       "        0.00000000e+00],\n",
       "       [1.00000000e+00, 2.40000000e+01, 1.18000000e+02, 2.00000000e+01,\n",
       "        7.00000000e+00, 9.30000000e+01, 2.94928188e+01, 2.94928188e+01,\n",
       "        0.00000000e+00],\n",
       "       [1.00000000e+00, 2.50000000e+01, 1.17000000e+02, 1.50000000e+01,\n",
       "        5.00000000e+00, 8.70000000e+01, 3.25778519e+01, 3.25778519e+01,\n",
       "        0.00000000e+00],\n",
       "       [1.00000000e+00, 2.60000000e+01, 1.17000000e+02, 1.20000000e+01,\n",
       "        3.00000000e+00, 8.50000000e+01, 3.16405797e+01, 3.15923188e+01,\n",
       "        6.24089869e-02],\n",
       "       [1.00000000e+00, 2.70000000e+01, 1.16000000e+02, 1.60000000e+01,\n",
       "        4.00000000e+00, 1.01000000e+02, 3.14112230e+01, 3.14112230e+01,\n",
       "        0.00000000e+00],\n",
       "       [1.00000000e+00, 2.80000000e+01, 1.54000000e+02, 1.80000000e+01,\n",
       "        3.00000000e+00, 1.17000000e+02, 2.66412105e+01, 2.66412105e+01,\n",
       "        0.00000000e+00],\n",
       "       [1.00000000e+00, 2.90000000e+01, 1.59000000e+02, 1.60000000e+01,\n",
       "        4.00000000e+00, 1.44000000e+02, 1.96936900e+01, 1.96936900e+01,\n",
       "        0.00000000e+00],\n",
       "       [1.00000000e+00, 3.00000000e+01, 1.91000000e+02, 1.70000000e+01,\n",
       "        5.00000000e+00, 1.49000000e+02, 1.88692151e+01, 1.88692151e+01,\n",
       "        0.00000000e+00],\n",
       "       [1.00000000e+00, 3.10000000e+01, 1.57000000e+02, 1.50000000e+01,\n",
       "        3.00000000e+00, 1.14000000e+02, 2.26691038e+01, 2.26691038e+01,\n",
       "        0.00000000e+00],\n",
       "       [1.00000000e+00, 3.20000000e+01, 1.47000000e+02, 2.00000000e+01,\n",
       "        4.00000000e+00, 1.18000000e+02, 3.16365318e+01, 3.15352023e+01,\n",
       "        2.48663834e-01],\n",
       "       [1.00000000e+00, 3.30000000e+01, 1.50000000e+02, 1.60000000e+01,\n",
       "        5.00000000e+00, 1.03000000e+02, 2.63239899e+01, 2.63239899e+01,\n",
       "        0.00000000e+00],\n",
       "       [1.00000000e+00, 3.40000000e+01, 1.41000000e+02, 1.30000000e+01,\n",
       "        4.00000000e+00, 1.03000000e+02, 1.45813455e+01, 1.45474909e+01,\n",
       "        2.54545455e+00],\n",
       "       [1.00000000e+00, 3.50000000e+01, 1.46000000e+02, 1.90000000e+01,\n",
       "        5.00000000e+00, 1.31000000e+02, 1.16016919e+01, 1.16016919e+01,\n",
       "        0.00000000e+00],\n",
       "       [1.00000000e+00, 3.60000000e+01, 1.62000000e+02, 1.60000000e+01,\n",
       "        6.00000000e+00, 1.38000000e+02, 1.06048157e+01, 1.05542166e+01,\n",
       "        3.47532071e+00],\n",
       "       [1.00000000e+00, 3.70000000e+01, 1.60000000e+02, 1.90000000e+01,\n",
       "        5.00000000e+00, 1.31000000e+02, 1.59140127e+01, 1.58547134e+01,\n",
       "        4.45859873e+00],\n",
       "       [1.00000000e+00, 3.80000000e+01, 1.26000000e+02, 1.10000000e+01,\n",
       "        4.00000000e+00, 1.21000000e+02, 1.01480224e+01, 1.01405597e+01,\n",
       "        3.39213026e-02],\n",
       "       [1.00000000e+00, 3.90000000e+01, 1.47000000e+02, 1.60000000e+01,\n",
       "        6.00000000e+00, 1.18000000e+02, 1.75865198e+01, 1.75865198e+01,\n",
       "        0.00000000e+00],\n",
       "       [1.00000000e+00, 4.00000000e+01, 1.31000000e+02, 1.70000000e+01,\n",
       "        6.00000000e+00, 1.17000000e+02, 1.26185020e+01, 1.25134008e+01,\n",
       "        6.51460835e+00],\n",
       "       [1.00000000e+00, 4.10000000e+01, 1.60000000e+02, 1.60000000e+01,\n",
       "        6.00000000e+00, 1.14000000e+02, 1.68750787e+01, 1.60893307e+01,\n",
       "        3.78486672e+00],\n",
       "       [1.00000000e+00, 4.20000000e+01, 1.54000000e+02, 1.80000000e+01,\n",
       "        7.00000000e+00, 1.31000000e+02, 1.25150278e+01, 1.21499722e+01,\n",
       "        1.72671081e+01],\n",
       "       [1.00000000e+00, 4.30000000e+01, 1.75000000e+02, 2.00000000e+01,\n",
       "        7.00000000e+00, 1.57000000e+02, 9.61482625e+00, 9.06899614e+00,\n",
       "        2.69273933e+01],\n",
       "       [1.00000000e+00, 4.40000000e+01, 1.86000000e+02, 2.40000000e+01,\n",
       "        5.00000000e+00, 1.40000000e+02, 1.14587333e+01, 1.07797556e+01,\n",
       "        2.36199304e+01],\n",
       "       [1.00000000e+00, 4.50000000e+01, 1.88000000e+02, 2.60000000e+01,\n",
       "        6.00000000e+00, 1.40000000e+02, 1.08778507e+01, 1.02946606e+01,\n",
       "        2.33630719e+01],\n",
       "       [1.00000000e+00, 4.60000000e+01, 1.95000000e+02, 2.40000000e+01,\n",
       "        6.00000000e+00, 1.57000000e+02, 1.08654418e+01, 1.03562450e+01,\n",
       "        1.66307590e+01],\n",
       "       [1.00000000e+00, 4.70000000e+01, 1.88000000e+02, 2.40000000e+01,\n",
       "        8.00000000e+00, 1.43000000e+02, 1.37199724e+01, 1.31048343e+01,\n",
       "        1.42548060e+01],\n",
       "       [1.00000000e+00, 4.80000000e+01, 1.92000000e+02, 2.50000000e+01,\n",
       "        7.00000000e+00, 1.50000000e+02, 2.13976087e+01, 2.02859783e+01,\n",
       "        7.11813489e+00],\n",
       "       [1.00000000e+00, 4.90000000e+01, 2.04000000e+02, 2.70000000e+01,\n",
       "        8.00000000e+00, 1.59000000e+02, 1.74637433e+01, 1.68201604e+01,\n",
       "        1.27914913e+01],\n",
       "       [1.00000000e+00, 5.00000000e+01, 2.35000000e+02, 2.50000000e+01,\n",
       "        8.00000000e+00, 1.74000000e+02, 1.63677682e+01, 1.54406867e+01,\n",
       "        1.73350685e+01],\n",
       "       [1.00000000e+00, 5.10000000e+01, 2.47000000e+02, 2.60000000e+01,\n",
       "        6.00000000e+00, 2.06000000e+02, 1.89181237e+01, 1.81431340e+01,\n",
       "        1.57607007e+01],\n",
       "       [1.00000000e+00, 5.20000000e+01, 2.71000000e+02, 2.80000000e+01,\n",
       "        6.00000000e+00, 2.13000000e+02, 1.84570293e+01, 1.68709623e+01,\n",
       "        1.52512713e+01],\n",
       "       [1.00000000e+00, 5.30000000e+01, 1.91000000e+02, 2.40000000e+01,\n",
       "        5.00000000e+00, 1.16000000e+02, 2.27927237e+01, 2.14226070e+01,\n",
       "        3.63675497e+00],\n",
       "       [1.00000000e+00, 5.40000000e+01, 1.94000000e+02, 2.80000000e+01,\n",
       "        8.00000000e+00, 1.41000000e+02, 2.42772727e+01, 2.22517787e+01,\n",
       "        5.92365048e+00],\n",
       "       [1.00000000e+00, 5.50000000e+01, 2.34000000e+02, 3.00000000e+01,\n",
       "        8.00000000e+00, 1.80000000e+02, 2.25804696e+01, 2.16710221e+01,\n",
       "        2.40320851e+00],\n",
       "       [1.00000000e+00, 5.60000000e+01, 2.50000000e+02, 3.10000000e+01,\n",
       "        7.00000000e+00, 1.82000000e+02, 1.58228571e+01, 1.48904978e+01,\n",
       "        1.98671970e+01],\n",
       "       [1.00000000e+00, 5.70000000e+01, 2.05000000e+02, 2.50000000e+01,\n",
       "        6.00000000e+00, 1.57000000e+02, 1.76226667e+01, 1.67012222e+01,\n",
       "        1.34903477e+01],\n",
       "       [1.00000000e+00, 5.80000000e+01, 2.42000000e+02, 2.90000000e+01,\n",
       "        8.00000000e+00, 1.75000000e+02, 2.33545501e+01, 2.26882005e+01,\n",
       "        1.05339952e+01],\n",
       "       [1.00000000e+00, 5.90000000e+01, 2.65000000e+02, 3.00000000e+01,\n",
       "        8.00000000e+00, 2.05000000e+02, 2.30195556e+01, 2.22386667e+01,\n",
       "        1.04473769e+01],\n",
       "       [1.00000000e+00, 6.00000000e+01, 2.18000000e+02, 2.80000000e+01,\n",
       "        7.00000000e+00, 1.56000000e+02, 2.56921017e+01, 2.45546780e+01,\n",
       "        5.58487901e+00],\n",
       "       [1.00000000e+00, 6.10000000e+01, 1.15000000e+02, 2.00000000e+01,\n",
       "        7.00000000e+00, 6.40000000e+01, 2.43080882e+01, 2.36280882e+01,\n",
       "        4.98823054e+00]])"
      ]
     },
     "execution_count": 104,
     "metadata": {},
     "output_type": "execute_result"
    }
   ],
   "source": [
    "X=np.append(np.ones((61,1)).astype(int),X,axis=1)\n",
    "X"
   ]
  },
  {
   "cell_type": "code",
   "execution_count": 113,
   "metadata": {},
   "outputs": [],
   "source": [
    "import statsmodels.formula.api as sm\n",
    "X_opt=X[:,[0,1,5,6,8]]\n",
    "reg_ols=sm.OLS(endog=y,exog=X_opt).fit()"
   ]
  },
  {
   "cell_type": "code",
   "execution_count": 114,
   "metadata": {},
   "outputs": [
    {
     "data": {
      "text/html": [
       "<table class=\"simpletable\">\n",
       "<caption>OLS Regression Results</caption>\n",
       "<tr>\n",
       "  <th>Dep. Variable:</th>            <td>y</td>        <th>  R-squared:         </th> <td>   0.947</td>\n",
       "</tr>\n",
       "<tr>\n",
       "  <th>Model:</th>                   <td>OLS</td>       <th>  Adj. R-squared:    </th> <td>   0.943</td>\n",
       "</tr>\n",
       "<tr>\n",
       "  <th>Method:</th>             <td>Least Squares</td>  <th>  F-statistic:       </th> <td>   249.2</td>\n",
       "</tr>\n",
       "<tr>\n",
       "  <th>Date:</th>             <td>Sun, 19 May 2019</td> <th>  Prob (F-statistic):</th> <td>5.80e-35</td>\n",
       "</tr>\n",
       "<tr>\n",
       "  <th>Time:</th>                 <td>17:57:32</td>     <th>  Log-Likelihood:    </th> <td> -292.86</td>\n",
       "</tr>\n",
       "<tr>\n",
       "  <th>No. Observations:</th>      <td>    61</td>      <th>  AIC:               </th> <td>   595.7</td>\n",
       "</tr>\n",
       "<tr>\n",
       "  <th>Df Residuals:</th>          <td>    56</td>      <th>  BIC:               </th> <td>   606.3</td>\n",
       "</tr>\n",
       "<tr>\n",
       "  <th>Df Model:</th>              <td>     4</td>      <th>                     </th>     <td> </td>   \n",
       "</tr>\n",
       "<tr>\n",
       "  <th>Covariance Type:</th>      <td>nonrobust</td>    <th>                     </th>     <td> </td>   \n",
       "</tr>\n",
       "</table>\n",
       "<table class=\"simpletable\">\n",
       "<tr>\n",
       "    <td></td>       <th>coef</th>     <th>std err</th>      <th>t</th>      <th>P>|t|</th>  <th>[0.025</th>    <th>0.975]</th>  \n",
       "</tr>\n",
       "<tr>\n",
       "  <th>const</th> <td>  152.3745</td> <td>   30.489</td> <td>    4.998</td> <td> 0.000</td> <td>   91.299</td> <td>  213.450</td>\n",
       "</tr>\n",
       "<tr>\n",
       "  <th>x1</th>    <td>   -0.6387</td> <td>    0.391</td> <td>   -1.633</td> <td> 0.108</td> <td>   -1.422</td> <td>    0.145</td>\n",
       "</tr>\n",
       "<tr>\n",
       "  <th>x2</th>    <td>    1.7039</td> <td>    0.168</td> <td>   10.166</td> <td> 0.000</td> <td>    1.368</td> <td>    2.040</td>\n",
       "</tr>\n",
       "<tr>\n",
       "  <th>x3</th>    <td>   -4.3497</td> <td>    0.612</td> <td>   -7.113</td> <td> 0.000</td> <td>   -5.575</td> <td>   -3.125</td>\n",
       "</tr>\n",
       "<tr>\n",
       "  <th>x4</th>    <td>    5.4677</td> <td>    0.728</td> <td>    7.512</td> <td> 0.000</td> <td>    4.010</td> <td>    6.926</td>\n",
       "</tr>\n",
       "</table>\n",
       "<table class=\"simpletable\">\n",
       "<tr>\n",
       "  <th>Omnibus:</th>       <td>14.020</td> <th>  Durbin-Watson:     </th> <td>   1.162</td>\n",
       "</tr>\n",
       "<tr>\n",
       "  <th>Prob(Omnibus):</th> <td> 0.001</td> <th>  Jarque-Bera (JB):  </th> <td>  18.169</td>\n",
       "</tr>\n",
       "<tr>\n",
       "  <th>Skew:</th>          <td> 0.891</td> <th>  Prob(JB):          </th> <td>0.000113</td>\n",
       "</tr>\n",
       "<tr>\n",
       "  <th>Kurtosis:</th>      <td> 4.994</td> <th>  Cond. No.          </th> <td>1.01e+03</td>\n",
       "</tr>\n",
       "</table><br/><br/>Warnings:<br/>[1] Standard Errors assume that the covariance matrix of the errors is correctly specified.<br/>[2] The condition number is large, 1.01e+03. This might indicate that there are<br/>strong multicollinearity or other numerical problems."
      ],
      "text/plain": [
       "<class 'statsmodels.iolib.summary.Summary'>\n",
       "\"\"\"\n",
       "                            OLS Regression Results                            \n",
       "==============================================================================\n",
       "Dep. Variable:                      y   R-squared:                       0.947\n",
       "Model:                            OLS   Adj. R-squared:                  0.943\n",
       "Method:                 Least Squares   F-statistic:                     249.2\n",
       "Date:                Sun, 19 May 2019   Prob (F-statistic):           5.80e-35\n",
       "Time:                        17:57:32   Log-Likelihood:                -292.86\n",
       "No. Observations:                  61   AIC:                             595.7\n",
       "Df Residuals:                      56   BIC:                             606.3\n",
       "Df Model:                           4                                         \n",
       "Covariance Type:            nonrobust                                         \n",
       "==============================================================================\n",
       "                 coef    std err          t      P>|t|      [0.025      0.975]\n",
       "------------------------------------------------------------------------------\n",
       "const        152.3745     30.489      4.998      0.000      91.299     213.450\n",
       "x1            -0.6387      0.391     -1.633      0.108      -1.422       0.145\n",
       "x2             1.7039      0.168     10.166      0.000       1.368       2.040\n",
       "x3            -4.3497      0.612     -7.113      0.000      -5.575      -3.125\n",
       "x4             5.4677      0.728      7.512      0.000       4.010       6.926\n",
       "==============================================================================\n",
       "Omnibus:                       14.020   Durbin-Watson:                   1.162\n",
       "Prob(Omnibus):                  0.001   Jarque-Bera (JB):               18.169\n",
       "Skew:                           0.891   Prob(JB):                     0.000113\n",
       "Kurtosis:                       4.994   Cond. No.                     1.01e+03\n",
       "==============================================================================\n",
       "\n",
       "Warnings:\n",
       "[1] Standard Errors assume that the covariance matrix of the errors is correctly specified.\n",
       "[2] The condition number is large, 1.01e+03. This might indicate that there are\n",
       "strong multicollinearity or other numerical problems.\n",
       "\"\"\""
      ]
     },
     "execution_count": 114,
     "metadata": {},
     "output_type": "execute_result"
    }
   ],
   "source": [
    "reg_ols.summary()"
   ]
  },
  {
   "cell_type": "code",
   "execution_count": 115,
   "metadata": {},
   "outputs": [],
   "source": [
    "X=df5_grp.iloc[:,[0,4,5,7]].values"
   ]
  },
  {
   "cell_type": "code",
   "execution_count": 129,
   "metadata": {},
   "outputs": [],
   "source": [
    "from sklearn.model_selection import train_test_split\n",
    "X_train,X_test,y_train,y_test=train_test_split(X,y,test_size=0.2)"
   ]
  },
  {
   "cell_type": "code",
   "execution_count": 130,
   "metadata": {},
   "outputs": [],
   "source": [
    "from sklearn.linear_model import LinearRegression"
   ]
  },
  {
   "cell_type": "code",
   "execution_count": 131,
   "metadata": {},
   "outputs": [],
   "source": [
    "lr=LinearRegression()"
   ]
  },
  {
   "cell_type": "code",
   "execution_count": 132,
   "metadata": {},
   "outputs": [
    {
     "data": {
      "text/plain": [
       "LinearRegression(copy_X=True, fit_intercept=True, n_jobs=None,\n",
       "         normalize=False)"
      ]
     },
     "execution_count": 132,
     "metadata": {},
     "output_type": "execute_result"
    }
   ],
   "source": [
    "lr.fit(X_train,y_train)"
   ]
  },
  {
   "cell_type": "code",
   "execution_count": 133,
   "metadata": {},
   "outputs": [],
   "source": [
    "y_pred_lr=lr.predict(X_test)"
   ]
  },
  {
   "cell_type": "code",
   "execution_count": 143,
   "metadata": {},
   "outputs": [
    {
     "data": {
      "text/plain": [
       "0.9157157322416484"
      ]
     },
     "execution_count": 143,
     "metadata": {},
     "output_type": "execute_result"
    }
   ],
   "source": [
    "from sklearn.metrics import r2_score\n",
    "r2_score(y_test,y_pred_lr)"
   ]
  },
  {
   "cell_type": "code",
   "execution_count": 152,
   "metadata": {},
   "outputs": [
    {
     "data": {
      "text/plain": [
       "<matplotlib.collections.PathCollection at 0x6f8d58f28>"
      ]
     },
     "execution_count": 152,
     "metadata": {},
     "output_type": "execute_result"
    },
    {
     "data": {
      "image/png": "[encoded data removed]",
      "text/plain": [
       "<Figure size 432x288 with 1 Axes>"
      ]
     },
     "metadata": {
      "needs_background": "light"
     },
     "output_type": "display_data"
    }
   ],
   "source": [
    "plt.scatter(X_test[:,0],y_test,color='red')\n",
    "plt.scatter(X_test[:,0],y_pred_lr,color='green')"
   ]
  },
  {
   "cell_type": "code",
   "execution_count": 136,
   "metadata": {},
   "outputs": [
    {
     "data": {
      "text/plain": [
       "DecisionTreeRegressor(criterion='mse', max_depth=None, max_features=None,\n",
       "           max_leaf_nodes=None, min_impurity_decrease=0.0,\n",
       "           min_impurity_split=None, min_samples_leaf=1,\n",
       "           min_samples_split=2, min_weight_fraction_leaf=0.0,\n",
       "           presort=False, random_state=None, splitter='best')"
      ]
     },
     "execution_count": 136,
     "metadata": {},
     "output_type": "execute_result"
    }
   ],
   "source": [
    "from sklearn.tree import DecisionTreeRegressor\n",
    "dr=DecisionTreeRegressor()\n",
    "dr.fit(X_train,y_train)"
   ]
  },
  {
   "cell_type": "code",
   "execution_count": 137,
   "metadata": {},
   "outputs": [],
   "source": [
    "y_pred_dr=dr.predict(X_test)"
   ]
  },
  {
   "cell_type": "code",
   "execution_count": 144,
   "metadata": {},
   "outputs": [
    {
     "data": {
      "text/plain": [
       "0.73912041242651"
      ]
     },
     "execution_count": 144,
     "metadata": {},
     "output_type": "execute_result"
    }
   ],
   "source": [
    "from sklearn.metrics import r2_score\n",
    "r2_score(y_test,y_pred_dr)"
   ]
  },
  {
   "cell_type": "code",
   "execution_count": 153,
   "metadata": {},
   "outputs": [
    {
     "data": {
      "text/plain": [
       "<matplotlib.collections.PathCollection at 0x6f8dbdeb8>"
      ]
     },
     "execution_count": 153,
     "metadata": {},
     "output_type": "execute_result"
    },
    {
     "data": {
      "image/png": "[encoded data removed]",
      "text/plain": [
       "<Figure size 432x288 with 1 Axes>"
      ]
     },
     "metadata": {
      "needs_background": "light"
     },
     "output_type": "display_data"
    }
   ],
   "source": [
    "plt.scatter(X_test[:,0],y_test,color='red')\n",
    "plt.scatter(X_test[:,0],y_pred_dr,color='green')"
   ]
  },
  {
   "cell_type": "code",
   "execution_count": 139,
   "metadata": {},
   "outputs": [
    {
     "name": "stderr",
     "output_type": "stream",
     "text": [
      "C:\\Users\\Admin\\Anaconda3\\lib\\site-packages\\sklearn\\ensemble\\forest.py:246: FutureWarning: The default value of n_estimators will change from 10 in version 0.20 to 100 in 0.22.\n",
      "  \"10 in version 0.20 to 100 in 0.22.\", FutureWarning)\n",
      "C:\\Users\\Admin\\Anaconda3\\lib\\site-packages\\ipykernel_launcher.py:3: DataConversionWarning: A column-vector y was passed when a 1d array was expected. Please change the shape of y to (n_samples,), for example using ravel().\n",
      "  This is separate from the ipykernel package so we can avoid doing imports until\n"
     ]
    },
    {
     "data": {
      "text/plain": [
       "RandomForestRegressor(bootstrap=True, criterion='mse', max_depth=None,\n",
       "           max_features='auto', max_leaf_nodes=None,\n",
       "           min_impurity_decrease=0.0, min_impurity_split=None,\n",
       "           min_samples_leaf=1, min_samples_split=2,\n",
       "           min_weight_fraction_leaf=0.0, n_estimators=10, n_jobs=None,\n",
       "           oob_score=False, random_state=None, verbose=0, warm_start=False)"
      ]
     },
     "execution_count": 139,
     "metadata": {},
     "output_type": "execute_result"
    }
   ],
   "source": [
    "from sklearn.ensemble import RandomForestRegressor\n",
    "rfr=RandomForestRegressor()\n",
    "rfr.fit(X_train,y_train)"
   ]
  },
  {
   "cell_type": "code",
   "execution_count": 140,
   "metadata": {},
   "outputs": [],
   "source": [
    "y_pred_rfr=rfr.predict(X_test)"
   ]
  },
  {
   "cell_type": "code",
   "execution_count": 145,
   "metadata": {},
   "outputs": [
    {
     "data": {
      "text/plain": [
       "0.8999830417675914"
      ]
     },
     "execution_count": 145,
     "metadata": {},
     "output_type": "execute_result"
    }
   ],
   "source": [
    "from sklearn.metrics import r2_score\n",
    "r2_score(y_test,y_pred_rfr)"
   ]
  },
  {
   "cell_type": "code",
   "execution_count": 154,
   "metadata": {},
   "outputs": [
    {
     "data": {
      "text/plain": [
       "<matplotlib.collections.PathCollection at 0x6f8e19a20>"
      ]
     },
     "execution_count": 154,
     "metadata": {},
     "output_type": "execute_result"
    },
    {
     "data": {
      "image/png": "[encoded data removed]",
      "text/plain": [
       "<Figure size 432x288 with 1 Axes>"
      ]
     },
     "metadata": {
      "needs_background": "light"
     },
     "output_type": "display_data"
    }
   ],
   "source": [
    "plt.scatter(X_test[:,0],y_test,color='red')\n",
    "plt.scatter(X_test[:,0],y_pred_rfr,color='green')"
   ]
  },
  {
   "cell_type": "code",
   "execution_count": null,
   "metadata": {},
   "outputs": [],
   "source": []
  }
 ],
 "metadata": {
  "kernelspec": {
   "display_name": "Python 3",
   "language": "python",
   "name": "python3"
  },
  "language_info": {
   "codemirror_mode": {
    "name": "ipython",
    "version": 3
   },
   "file_extension": ".py",
   "mimetype": "text/x-python",
   "name": "python",
   "nbconvert_exporter": "python",
   "pygments_lexer": "ipython3",
   "version": "3.6.8"
  }
 },
 "nbformat": 4,
 "nbformat_minor": 2
}
