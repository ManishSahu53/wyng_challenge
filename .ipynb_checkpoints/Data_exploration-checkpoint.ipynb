{
 "cells": [
  {
   "cell_type": "code",
   "execution_count": 1,
   "metadata": {},
   "outputs": [],
   "source": [
    "def wy2date(date):\n",
    "    return date - timedelta(days = date.weekday())\n"
   ]
  },
  {
   "cell_type": "code",
   "execution_count": 2,
   "metadata": {},
   "outputs": [],
   "source": [
    "import pandas as pd\n",
    "import numpy as np\n",
    "import seaborn as sns\n",
    "import os\n",
    "import matplotlib.pyplot as plt\n",
    "import time\n",
    "from datetime import datetime\n",
    "from datetime import timedelta\n"
   ]
  },
  {
   "cell_type": "code",
   "execution_count": 3,
   "metadata": {},
   "outputs": [],
   "source": [
    "path = 'sales_data_v2'"
   ]
  },
  {
   "cell_type": "code",
   "execution_count": 4,
   "metadata": {},
   "outputs": [],
   "source": [
    "file1_path = os.path.join(path, 'file1.csv')\n",
    "file2_path = os.path.join(path, 'file2.csv')\n",
    "file3_path = os.path.join(path, 'file3.csv')\n",
    "file4_path = os.path.join(path, 'file4.csv')\n",
    "file5_path = os.path.join(path, 'file5.csv')\n",
    "file6_path = os.path.join(path, 'file6.csv')\n",
    "file7_path = os.path.join(path, 'file7.csv')\n",
    "file8_path = os.path.join(path, 'file8.csv')\n",
    "file9_path = os.path.join(path, 'file9.csv')\n"
   ]
  },
  {
   "cell_type": "code",
   "execution_count": 5,
   "metadata": {},
   "outputs": [],
   "source": [
    "file_1 = pd.read_csv(file1_path)\n",
    "file_2 = pd.read_csv(file2_path)\n",
    "file_3 = pd.read_csv(file3_path)\n",
    "file_4 = pd.read_csv(file4_path)\n",
    "file_5 = pd.read_csv(file5_path)\n",
    "file_6 = pd.read_csv(file6_path)\n",
    "file_7 = pd.read_csv(file7_path)\n",
    "file_8 = pd.read_csv(file8_path)\n",
    "file_9 = pd.read_csv(file9_path)"
   ]
  },
  {
   "cell_type": "code",
   "execution_count": 6,
   "metadata": {},
   "outputs": [],
   "source": [
    "frames = [file_1, file_2, file_3, file_4, file_5, file_6, file_7, file_8, file_9]\n",
    "\n",
    "data = pd.concat(frames)"
   ]
  },
  {
   "cell_type": "code",
   "execution_count": 7,
   "metadata": {},
   "outputs": [
    {
     "data": {
      "text/html": [
       "<div>\n",
       "<style scoped>\n",
       "    .dataframe tbody tr th:only-of-type {\n",
       "        vertical-align: middle;\n",
       "    }\n",
       "\n",
       "    .dataframe tbody tr th {\n",
       "        vertical-align: top;\n",
       "    }\n",
       "\n",
       "    .dataframe thead th {\n",
       "        text-align: right;\n",
       "    }\n",
       "</style>\n",
       "<table border=\"1\" class=\"dataframe\">\n",
       "  <thead>\n",
       "    <tr style=\"text-align: right;\">\n",
       "      <th></th>\n",
       "      <th>SKU Code</th>\n",
       "      <th>Brand Code</th>\n",
       "      <th>Category</th>\n",
       "      <th>Bill Number</th>\n",
       "      <th>Store Code</th>\n",
       "      <th>Sale Date</th>\n",
       "      <th>Sale/Return</th>\n",
       "      <th>MRP</th>\n",
       "      <th>Sales Price</th>\n",
       "      <th>Sales Qty</th>\n",
       "    </tr>\n",
       "  </thead>\n",
       "  <tbody>\n",
       "    <tr>\n",
       "      <th>0</th>\n",
       "      <td>SKU1181</td>\n",
       "      <td>BRAND041</td>\n",
       "      <td>Cat06</td>\n",
       "      <td>BILL06415</td>\n",
       "      <td>Store 1</td>\n",
       "      <td>2017-05-18</td>\n",
       "      <td>Return</td>\n",
       "      <td>0.01</td>\n",
       "      <td>0.01</td>\n",
       "      <td>-1</td>\n",
       "    </tr>\n",
       "    <tr>\n",
       "      <th>1</th>\n",
       "      <td>SKU0457</td>\n",
       "      <td>BRAND011</td>\n",
       "      <td>Cat01</td>\n",
       "      <td>BILL06416</td>\n",
       "      <td>Store 1</td>\n",
       "      <td>2017-05-22</td>\n",
       "      <td>Sale</td>\n",
       "      <td>72.00</td>\n",
       "      <td>72.67</td>\n",
       "      <td>2</td>\n",
       "    </tr>\n",
       "    <tr>\n",
       "      <th>2</th>\n",
       "      <td>SKU1465</td>\n",
       "      <td>BRAND018</td>\n",
       "      <td>Cat07</td>\n",
       "      <td>BILL06417</td>\n",
       "      <td>Store 1</td>\n",
       "      <td>2017-07-01</td>\n",
       "      <td>Return</td>\n",
       "      <td>20.00</td>\n",
       "      <td>20.00</td>\n",
       "      <td>-1</td>\n",
       "    </tr>\n",
       "    <tr>\n",
       "      <th>3</th>\n",
       "      <td>SKU0774</td>\n",
       "      <td>BRAND017</td>\n",
       "      <td>Cat07</td>\n",
       "      <td>BILL06418</td>\n",
       "      <td>Store 1</td>\n",
       "      <td>2017-07-01</td>\n",
       "      <td>Sale</td>\n",
       "      <td>30.67</td>\n",
       "      <td>30.67</td>\n",
       "      <td>1</td>\n",
       "    </tr>\n",
       "    <tr>\n",
       "      <th>4</th>\n",
       "      <td>SKU1695</td>\n",
       "      <td>BRAND017</td>\n",
       "      <td>Cat07</td>\n",
       "      <td>BILL06419</td>\n",
       "      <td>Store 1</td>\n",
       "      <td>2017-07-01</td>\n",
       "      <td>Sale</td>\n",
       "      <td>44.00</td>\n",
       "      <td>44.00</td>\n",
       "      <td>1</td>\n",
       "    </tr>\n",
       "  </tbody>\n",
       "</table>\n",
       "</div>"
      ],
      "text/plain": [
       "  SKU Code Brand Code Category Bill Number Store Code   Sale Date Sale/Return  \\\n",
       "0  SKU1181   BRAND041    Cat06   BILL06415    Store 1  2017-05-18      Return   \n",
       "1  SKU0457   BRAND011    Cat01   BILL06416    Store 1  2017-05-22        Sale   \n",
       "2  SKU1465   BRAND018    Cat07   BILL06417    Store 1  2017-07-01      Return   \n",
       "3  SKU0774   BRAND017    Cat07   BILL06418    Store 1  2017-07-01        Sale   \n",
       "4  SKU1695   BRAND017    Cat07   BILL06419    Store 1  2017-07-01        Sale   \n",
       "\n",
       "     MRP  Sales Price  Sales Qty  \n",
       "0   0.01         0.01         -1  \n",
       "1  72.00        72.67          2  \n",
       "2  20.00        20.00         -1  \n",
       "3  30.67        30.67          1  \n",
       "4  44.00        44.00          1  "
      ]
     },
     "execution_count": 7,
     "metadata": {},
     "output_type": "execute_result"
    }
   ],
   "source": [
    "data.head()"
   ]
  },
  {
   "cell_type": "code",
   "execution_count": 8,
   "metadata": {},
   "outputs": [
    {
     "name": "stdout",
     "output_type": "stream",
     "text": [
      "Number of data points : 55957\n"
     ]
    }
   ],
   "source": [
    "# Removing duplicates\n",
    "data = data.drop_duplicates()\n",
    "print('Number of data points : %d' %(len(data)))"
   ]
  },
  {
   "cell_type": "code",
   "execution_count": 9,
   "metadata": {},
   "outputs": [],
   "source": [
    "# Converting Sales Date to Datetime foramt\n",
    "data['Sale Date'] = pd.to_datetime(data['Sale Date'])"
   ]
  },
  {
   "cell_type": "code",
   "execution_count": 10,
   "metadata": {},
   "outputs": [],
   "source": [
    "# Taking Free items\n",
    "free = data[data['Sales Price'] == 0]"
   ]
  },
  {
   "cell_type": "code",
   "execution_count": 11,
   "metadata": {},
   "outputs": [],
   "source": [
    "# Making MRP equal to Sales Price if it is more.\n",
    "sp = data.values[:,8]\n",
    "mrp = data.values[:,7]\n",
    "\n",
    "for i in range(len(data)):\n",
    "    if sp[i] > mrp[i]:\n",
    "        mrp[i] = sp[i]\n",
    "data['MRP'] = mrp"
   ]
  },
  {
   "cell_type": "code",
   "execution_count": 12,
   "metadata": {},
   "outputs": [
    {
     "name": "stdout",
     "output_type": "stream",
     "text": [
      "True, Pre-processing done right\n"
     ]
    }
   ],
   "source": [
    "# Checking if Sales Price is <= MRP\n",
    "a = data[data['Sales Price'] > data['MRP']]\n",
    "if len(a)>0:\n",
    "    print('False, DO Processing agian')\n",
    "else:\n",
    "    print('True, Pre-processing done right')"
   ]
  },
  {
   "cell_type": "code",
   "execution_count": 13,
   "metadata": {},
   "outputs": [],
   "source": [
    "# Removing Free items\n",
    "data = data[data['Sales Price'] != 0]"
   ]
  },
  {
   "cell_type": "code",
   "execution_count": 14,
   "metadata": {
    "scrolled": true
   },
   "outputs": [],
   "source": [
    "# Adding discount percentage column\n",
    "discount = (data['MRP'] - data['Sales Price']) /data['MRP'] \n",
    "data['discount'] = discount * 100"
   ]
  },
  {
   "cell_type": "code",
   "execution_count": 15,
   "metadata": {},
   "outputs": [],
   "source": [
    "data['amount'] = data['Sales Price']*data['Sales Qty']"
   ]
  },
  {
   "cell_type": "code",
   "execution_count": 16,
   "metadata": {},
   "outputs": [],
   "source": [
    "data['date'] = data['Sale Date'].apply(lambda x: wy2date(x))\n",
    "data['month'] = data['Sale Date'].apply( lambda x: x.month)"
   ]
  },
  {
   "cell_type": "code",
   "execution_count": 55,
   "metadata": {},
   "outputs": [],
   "source": [
    "sale_store = data.groupby('Store Code').agg({'Sales Qty': 'sum'}).reset_index()\n",
    "revenue_store = data.groupby('Store Code').agg({'amount': 'sum'}).reset_index()\n"
   ]
  },
  {
   "cell_type": "code",
   "execution_count": 83,
   "metadata": {},
   "outputs": [
    {
     "name": "stderr",
     "output_type": "stream",
     "text": [
      "/Users/manishsahu/miniconda3/envs/py3/lib/python3.6/site-packages/ipykernel_launcher.py:2: SettingWithCopyWarning: \n",
      "A value is trying to be set on a copy of a slice from a DataFrame.\n",
      "Try using .loc[row_indexer,col_indexer] = value instead\n",
      "\n",
      "See the caveats in the documentation: http://pandas.pydata.org/pandas-docs/stable/indexing.html#indexing-view-versus-copy\n",
      "  \n"
     ]
    }
   ],
   "source": [
    "discount = data[data['discount'] > 0]\n",
    "discount['discount'] = discount['discount'].apply(lambda x: float(x))\n",
    "data['discount'] = data['discount'].apply(lambda x: float(x))"
   ]
  },
  {
   "cell_type": "code",
   "execution_count": 84,
   "metadata": {},
   "outputs": [
    {
     "data": {
      "text/html": [
       "<div>\n",
       "<style scoped>\n",
       "    .dataframe tbody tr th:only-of-type {\n",
       "        vertical-align: middle;\n",
       "    }\n",
       "\n",
       "    .dataframe tbody tr th {\n",
       "        vertical-align: top;\n",
       "    }\n",
       "\n",
       "    .dataframe thead th {\n",
       "        text-align: right;\n",
       "    }\n",
       "</style>\n",
       "<table border=\"1\" class=\"dataframe\">\n",
       "  <thead>\n",
       "    <tr style=\"text-align: right;\">\n",
       "      <th></th>\n",
       "      <th>SKU Code</th>\n",
       "      <th>Brand Code</th>\n",
       "      <th>Category</th>\n",
       "      <th>Bill Number</th>\n",
       "      <th>Store Code</th>\n",
       "      <th>Sale Date</th>\n",
       "      <th>Sale/Return</th>\n",
       "      <th>MRP</th>\n",
       "      <th>Sales Price</th>\n",
       "      <th>Sales Qty</th>\n",
       "      <th>discount</th>\n",
       "      <th>amount</th>\n",
       "      <th>date</th>\n",
       "      <th>month</th>\n",
       "    </tr>\n",
       "  </thead>\n",
       "  <tbody>\n",
       "    <tr>\n",
       "      <th>407</th>\n",
       "      <td>SKU0626</td>\n",
       "      <td>BRAND027</td>\n",
       "      <td>Cat04</td>\n",
       "      <td>BILL06652</td>\n",
       "      <td>Store 1</td>\n",
       "      <td>2017-07-17</td>\n",
       "      <td>Sale</td>\n",
       "      <td>5.2</td>\n",
       "      <td>2.00</td>\n",
       "      <td>1</td>\n",
       "      <td>61.538462</td>\n",
       "      <td>2.00</td>\n",
       "      <td>2017-07-17</td>\n",
       "      <td>7</td>\n",
       "    </tr>\n",
       "    <tr>\n",
       "      <th>1654</th>\n",
       "      <td>SKU1223</td>\n",
       "      <td>BRAND017</td>\n",
       "      <td>Cat07</td>\n",
       "      <td>BILL07312</td>\n",
       "      <td>Store 1</td>\n",
       "      <td>2017-08-26</td>\n",
       "      <td>Sale</td>\n",
       "      <td>113.33</td>\n",
       "      <td>105.33</td>\n",
       "      <td>1</td>\n",
       "      <td>7.059031</td>\n",
       "      <td>105.33</td>\n",
       "      <td>2017-08-21</td>\n",
       "      <td>8</td>\n",
       "    </tr>\n",
       "    <tr>\n",
       "      <th>2986</th>\n",
       "      <td>SKU0870</td>\n",
       "      <td>BRAND027</td>\n",
       "      <td>Cat04</td>\n",
       "      <td>BILL07790</td>\n",
       "      <td>Store 1</td>\n",
       "      <td>2017-09-24</td>\n",
       "      <td>Sale</td>\n",
       "      <td>17.2</td>\n",
       "      <td>2.00</td>\n",
       "      <td>2</td>\n",
       "      <td>88.372093</td>\n",
       "      <td>4.00</td>\n",
       "      <td>2017-09-18</td>\n",
       "      <td>9</td>\n",
       "    </tr>\n",
       "    <tr>\n",
       "      <th>2987</th>\n",
       "      <td>SKU0870</td>\n",
       "      <td>BRAND027</td>\n",
       "      <td>Cat04</td>\n",
       "      <td>BILL07791</td>\n",
       "      <td>Store 1</td>\n",
       "      <td>2017-09-24</td>\n",
       "      <td>Sale</td>\n",
       "      <td>17.2</td>\n",
       "      <td>2.00</td>\n",
       "      <td>1</td>\n",
       "      <td>88.372093</td>\n",
       "      <td>2.00</td>\n",
       "      <td>2017-09-18</td>\n",
       "      <td>9</td>\n",
       "    </tr>\n",
       "    <tr>\n",
       "      <th>2998</th>\n",
       "      <td>SKU1661</td>\n",
       "      <td>BRAND017</td>\n",
       "      <td>Cat07</td>\n",
       "      <td>BILL07796</td>\n",
       "      <td>Store 1</td>\n",
       "      <td>2017-09-24</td>\n",
       "      <td>Sale</td>\n",
       "      <td>28</td>\n",
       "      <td>25.33</td>\n",
       "      <td>1</td>\n",
       "      <td>9.535714</td>\n",
       "      <td>25.33</td>\n",
       "      <td>2017-09-18</td>\n",
       "      <td>9</td>\n",
       "    </tr>\n",
       "  </tbody>\n",
       "</table>\n",
       "</div>"
      ],
      "text/plain": [
       "     SKU Code Brand Code Category Bill Number Store Code  Sale Date  \\\n",
       "407   SKU0626   BRAND027    Cat04   BILL06652    Store 1 2017-07-17   \n",
       "1654  SKU1223   BRAND017    Cat07   BILL07312    Store 1 2017-08-26   \n",
       "2986  SKU0870   BRAND027    Cat04   BILL07790    Store 1 2017-09-24   \n",
       "2987  SKU0870   BRAND027    Cat04   BILL07791    Store 1 2017-09-24   \n",
       "2998  SKU1661   BRAND017    Cat07   BILL07796    Store 1 2017-09-24   \n",
       "\n",
       "     Sale/Return     MRP  Sales Price  Sales Qty   discount  amount  \\\n",
       "407         Sale     5.2         2.00          1  61.538462    2.00   \n",
       "1654        Sale  113.33       105.33          1   7.059031  105.33   \n",
       "2986        Sale    17.2         2.00          2  88.372093    4.00   \n",
       "2987        Sale    17.2         2.00          1  88.372093    2.00   \n",
       "2998        Sale      28        25.33          1   9.535714   25.33   \n",
       "\n",
       "           date  month  \n",
       "407  2017-07-17      7  \n",
       "1654 2017-08-21      8  \n",
       "2986 2017-09-18      9  \n",
       "2987 2017-09-18      9  \n",
       "2998 2017-09-18      9  "
      ]
     },
     "execution_count": 84,
     "metadata": {},
     "output_type": "execute_result"
    }
   ],
   "source": [
    "discount.head()"
   ]
  },
  {
   "cell_type": "code",
   "execution_count": 85,
   "metadata": {},
   "outputs": [],
   "source": [
    "discount = discount.groupby('Category').agg({'discount': 'mean'}).reset_index()"
   ]
  },
  {
   "cell_type": "code",
   "execution_count": 18,
   "metadata": {
    "scrolled": true
   },
   "outputs": [
    {
     "data": {
      "text/html": [
       "<div>\n",
       "<style scoped>\n",
       "    .dataframe tbody tr th:only-of-type {\n",
       "        vertical-align: middle;\n",
       "    }\n",
       "\n",
       "    .dataframe tbody tr th {\n",
       "        vertical-align: top;\n",
       "    }\n",
       "\n",
       "    .dataframe thead th {\n",
       "        text-align: right;\n",
       "    }\n",
       "</style>\n",
       "<table border=\"1\" class=\"dataframe\">\n",
       "  <thead>\n",
       "    <tr style=\"text-align: right;\">\n",
       "      <th></th>\n",
       "      <th>Store Code</th>\n",
       "      <th>Sales Qty</th>\n",
       "    </tr>\n",
       "  </thead>\n",
       "  <tbody>\n",
       "    <tr>\n",
       "      <th>0</th>\n",
       "      <td>Store 1</td>\n",
       "      <td>10887</td>\n",
       "    </tr>\n",
       "    <tr>\n",
       "      <th>1</th>\n",
       "      <td>Store 2</td>\n",
       "      <td>8482</td>\n",
       "    </tr>\n",
       "    <tr>\n",
       "      <th>2</th>\n",
       "      <td>Store 3</td>\n",
       "      <td>8221</td>\n",
       "    </tr>\n",
       "    <tr>\n",
       "      <th>3</th>\n",
       "      <td>Store 4</td>\n",
       "      <td>8635</td>\n",
       "    </tr>\n",
       "    <tr>\n",
       "      <th>4</th>\n",
       "      <td>Store 5</td>\n",
       "      <td>14108</td>\n",
       "    </tr>\n",
       "  </tbody>\n",
       "</table>\n",
       "</div>"
      ],
      "text/plain": [
       "  Store Code  Sales Qty\n",
       "0    Store 1      10887\n",
       "1    Store 2       8482\n",
       "2    Store 3       8221\n",
       "3    Store 4       8635\n",
       "4    Store 5      14108"
      ]
     },
     "execution_count": 18,
     "metadata": {},
     "output_type": "execute_result"
    }
   ],
   "source": [
    "sale_store.head()"
   ]
  },
  {
   "cell_type": "code",
   "execution_count": 19,
   "metadata": {},
   "outputs": [
    {
     "data": {
      "text/html": [
       "<div>\n",
       "<style scoped>\n",
       "    .dataframe tbody tr th:only-of-type {\n",
       "        vertical-align: middle;\n",
       "    }\n",
       "\n",
       "    .dataframe tbody tr th {\n",
       "        vertical-align: top;\n",
       "    }\n",
       "\n",
       "    .dataframe thead th {\n",
       "        text-align: right;\n",
       "    }\n",
       "</style>\n",
       "<table border=\"1\" class=\"dataframe\">\n",
       "  <thead>\n",
       "    <tr style=\"text-align: right;\">\n",
       "      <th></th>\n",
       "      <th>Store Code</th>\n",
       "      <th>amount</th>\n",
       "    </tr>\n",
       "  </thead>\n",
       "  <tbody>\n",
       "    <tr>\n",
       "      <th>0</th>\n",
       "      <td>Store 1</td>\n",
       "      <td>233367.35</td>\n",
       "    </tr>\n",
       "    <tr>\n",
       "      <th>1</th>\n",
       "      <td>Store 2</td>\n",
       "      <td>273025.36</td>\n",
       "    </tr>\n",
       "    <tr>\n",
       "      <th>2</th>\n",
       "      <td>Store 3</td>\n",
       "      <td>66870.76</td>\n",
       "    </tr>\n",
       "    <tr>\n",
       "      <th>3</th>\n",
       "      <td>Store 4</td>\n",
       "      <td>55775.45</td>\n",
       "    </tr>\n",
       "    <tr>\n",
       "      <th>4</th>\n",
       "      <td>Store 5</td>\n",
       "      <td>322171.77</td>\n",
       "    </tr>\n",
       "  </tbody>\n",
       "</table>\n",
       "</div>"
      ],
      "text/plain": [
       "  Store Code     amount\n",
       "0    Store 1  233367.35\n",
       "1    Store 2  273025.36\n",
       "2    Store 3   66870.76\n",
       "3    Store 4   55775.45\n",
       "4    Store 5  322171.77"
      ]
     },
     "execution_count": 19,
     "metadata": {},
     "output_type": "execute_result"
    }
   ],
   "source": [
    "revenue_store.head()"
   ]
  },
  {
   "cell_type": "code",
   "execution_count": 86,
   "metadata": {},
   "outputs": [
    {
     "data": {
      "text/html": [
       "<div>\n",
       "<style scoped>\n",
       "    .dataframe tbody tr th:only-of-type {\n",
       "        vertical-align: middle;\n",
       "    }\n",
       "\n",
       "    .dataframe tbody tr th {\n",
       "        vertical-align: top;\n",
       "    }\n",
       "\n",
       "    .dataframe thead th {\n",
       "        text-align: right;\n",
       "    }\n",
       "</style>\n",
       "<table border=\"1\" class=\"dataframe\">\n",
       "  <thead>\n",
       "    <tr style=\"text-align: right;\">\n",
       "      <th></th>\n",
       "      <th>Category</th>\n",
       "      <th>discount</th>\n",
       "    </tr>\n",
       "  </thead>\n",
       "  <tbody>\n",
       "    <tr>\n",
       "      <th>0</th>\n",
       "      <td>Cat01</td>\n",
       "      <td>17.358999</td>\n",
       "    </tr>\n",
       "    <tr>\n",
       "      <th>1</th>\n",
       "      <td>Cat02</td>\n",
       "      <td>16.452315</td>\n",
       "    </tr>\n",
       "    <tr>\n",
       "      <th>2</th>\n",
       "      <td>Cat03</td>\n",
       "      <td>17.614235</td>\n",
       "    </tr>\n",
       "    <tr>\n",
       "      <th>3</th>\n",
       "      <td>Cat04</td>\n",
       "      <td>19.926286</td>\n",
       "    </tr>\n",
       "    <tr>\n",
       "      <th>4</th>\n",
       "      <td>Cat05</td>\n",
       "      <td>20.285669</td>\n",
       "    </tr>\n",
       "  </tbody>\n",
       "</table>\n",
       "</div>"
      ],
      "text/plain": [
       "  Category   discount\n",
       "0    Cat01  17.358999\n",
       "1    Cat02  16.452315\n",
       "2    Cat03  17.614235\n",
       "3    Cat04  19.926286\n",
       "4    Cat05  20.285669"
      ]
     },
     "execution_count": 86,
     "metadata": {},
     "output_type": "execute_result"
    }
   ],
   "source": [
    "discount.head()"
   ]
  },
  {
   "cell_type": "code",
   "execution_count": 20,
   "metadata": {},
   "outputs": [],
   "source": [
    "average_cost = revenue_store\n",
    "average_cost['amount'] = revenue_store.amount/sale_store['Sales Qty']"
   ]
  },
  {
   "cell_type": "code",
   "execution_count": 21,
   "metadata": {},
   "outputs": [
    {
     "data": {
      "text/html": [
       "<div>\n",
       "<style scoped>\n",
       "    .dataframe tbody tr th:only-of-type {\n",
       "        vertical-align: middle;\n",
       "    }\n",
       "\n",
       "    .dataframe tbody tr th {\n",
       "        vertical-align: top;\n",
       "    }\n",
       "\n",
       "    .dataframe thead th {\n",
       "        text-align: right;\n",
       "    }\n",
       "</style>\n",
       "<table border=\"1\" class=\"dataframe\">\n",
       "  <thead>\n",
       "    <tr style=\"text-align: right;\">\n",
       "      <th></th>\n",
       "      <th>Store Code</th>\n",
       "      <th>amount</th>\n",
       "    </tr>\n",
       "  </thead>\n",
       "  <tbody>\n",
       "    <tr>\n",
       "      <th>0</th>\n",
       "      <td>Store 1</td>\n",
       "      <td>21.435414</td>\n",
       "    </tr>\n",
       "    <tr>\n",
       "      <th>1</th>\n",
       "      <td>Store 2</td>\n",
       "      <td>32.188795</td>\n",
       "    </tr>\n",
       "    <tr>\n",
       "      <th>2</th>\n",
       "      <td>Store 3</td>\n",
       "      <td>8.134139</td>\n",
       "    </tr>\n",
       "    <tr>\n",
       "      <th>3</th>\n",
       "      <td>Store 4</td>\n",
       "      <td>6.459230</td>\n",
       "    </tr>\n",
       "    <tr>\n",
       "      <th>4</th>\n",
       "      <td>Store 5</td>\n",
       "      <td>22.836105</td>\n",
       "    </tr>\n",
       "  </tbody>\n",
       "</table>\n",
       "</div>"
      ],
      "text/plain": [
       "  Store Code     amount\n",
       "0    Store 1  21.435414\n",
       "1    Store 2  32.188795\n",
       "2    Store 3   8.134139\n",
       "3    Store 4   6.459230\n",
       "4    Store 5  22.836105"
      ]
     },
     "execution_count": 21,
     "metadata": {},
     "output_type": "execute_result"
    }
   ],
   "source": [
    "average_cost.head()"
   ]
  },
  {
   "cell_type": "markdown",
   "metadata": {},
   "source": [
    "### Sales units per Store\n",
    "This graph is used to get idea of sales of each store.\n",
    "We can see that Store 5 is best performing store interms of number of sales"
   ]
  },
  {
   "cell_type": "code",
   "execution_count": 22,
   "metadata": {},
   "outputs": [
    {
     "name": "stdout",
     "output_type": "stream",
     "text": [
      "Number of unique stores : 6\n"
     ]
    },
    {
     "data": {
      "text/plain": [
       "Text(0.5, 1.0, 'Sales per Store')"
      ]
     },
     "execution_count": 22,
     "metadata": {},
     "output_type": "execute_result"
    },
    {
     "data": {
      "image/png": "[encoded data removed]",
      "text/plain": [
       "<Figure size 432x288 with 1 Axes>"
      ]
     },
     "metadata": {
      "needs_background": "light"
     },
     "output_type": "display_data"
    }
   ],
   "source": [
    "print('Number of unique stores : %d' %(len(sale_store)))\n",
    "plt.bar(sale_store['Store Code'], sale_store['Sales Qty'])\n",
    "plt.title('Sales per Store')"
   ]
  },
  {
   "cell_type": "markdown",
   "metadata": {},
   "source": [
    "1. Maximum selling stores are Store 5 > Store 1 > Store2~Store3~Store4\n",
    "2. Minimum selling store is Store 6"
   ]
  },
  {
   "cell_type": "markdown",
   "metadata": {},
   "source": [
    "### Revenue per units per Store"
   ]
  },
  {
   "cell_type": "code",
   "execution_count": 172,
   "metadata": {},
   "outputs": [
    {
     "data": {
      "text/plain": [
       "Text(0.5, 1.0, 'Revenue per Store')"
      ]
     },
     "execution_count": 172,
     "metadata": {},
     "output_type": "execute_result"
    },
    {
     "data": {
      "image/png": "[encoded data removed]",
      "text/plain": [
       "<Figure size 432x288 with 1 Axes>"
      ]
     },
     "metadata": {
      "needs_background": "light"
     },
     "output_type": "display_data"
    }
   ],
   "source": [
    "plt.bar(revenue_store['Store Code'], revenue_store['amount'])\n",
    "plt.title('Revenue per Store')"
   ]
  },
  {
   "cell_type": "markdown",
   "metadata": {},
   "source": [
    "1. Revenue is maximum for Store 5 > Store 1 > Store 2\n",
    "2. Despite having very low sales quanity in Store 6, Revenue is significant higher. This mean per unit cost of items in Store 6 is very high."
   ]
  },
  {
   "cell_type": "markdown",
   "metadata": {},
   "source": [
    "### Unit Cost of Items units per Store"
   ]
  },
  {
   "cell_type": "code",
   "execution_count": 24,
   "metadata": {},
   "outputs": [
    {
     "data": {
      "text/plain": [
       "Text(0.5, 1.0, 'Per Unit Cost per Store')"
      ]
     },
     "execution_count": 24,
     "metadata": {},
     "output_type": "execute_result"
    },
    {
     "data": {
      "image/png": "[encoded data removed]",
      "text/plain": [
       "<Figure size 432x288 with 1 Axes>"
      ]
     },
     "metadata": {
      "needs_background": "light"
     },
     "output_type": "display_data"
    }
   ],
   "source": [
    "plt.bar(revenue_store['Store Code'], revenue_store['amount'])\n",
    "plt.title('Per Unit Cost per Store')"
   ]
  },
  {
   "cell_type": "markdown",
   "metadata": {},
   "source": [
    "1. Store 6 has highest unit cost (> 60) among all Stores\n",
    "2. Unit cost of Store3 and Store4 are very low (<10)"
   ]
  },
  {
   "cell_type": "markdown",
   "metadata": {},
   "source": [
    "### Average discount storewise if given"
   ]
  },
  {
   "cell_type": "code",
   "execution_count": 87,
   "metadata": {},
   "outputs": [
    {
     "data": {
      "text/plain": [
       "Text(0.5, 1.0, 'Average discount per Store')"
      ]
     },
     "execution_count": 87,
     "metadata": {},
     "output_type": "execute_result"
    },
    {
     "data": {
      "image/png": "[encoded data removed]",
      "text/plain": [
       "<Figure size 432x288 with 1 Axes>"
      ]
     },
     "metadata": {
      "needs_background": "light"
     },
     "output_type": "display_data"
    }
   ],
   "source": [
    "plt.bar(discount['Category'], discount['discount'])\n",
    "plt.title('Average discount per Store')"
   ]
  },
  {
   "cell_type": "markdown",
   "metadata": {},
   "source": [
    "### Category wise Revenue across all stores"
   ]
  },
  {
   "cell_type": "code",
   "execution_count": 25,
   "metadata": {},
   "outputs": [
    {
     "data": {
      "image/png": "[encoded data removed]",
      "text/plain": [
       "<Figure size 2160x360 with 6 Axes>"
      ]
     },
     "metadata": {
      "needs_background": "light"
     },
     "output_type": "display_data"
    }
   ],
   "source": [
    "store_id = data.groupby(['Store Code' , 'Category']).agg({'amount': 'sum'}).reset_index()\n",
    "g = sns.catplot(x=\"Category\", y=\"amount\", col=\"Store Code\", data = store_id, saturation=.5 , kind=\"bar\", aspect=1)"
   ]
  },
  {
   "cell_type": "markdown",
   "metadata": {},
   "source": [
    "### Category wise Sales across all stores"
   ]
  },
  {
   "cell_type": "code",
   "execution_count": 26,
   "metadata": {},
   "outputs": [
    {
     "data": {
      "image/png": "[encoded data removed]",
      "text/plain": [
       "<Figure size 2160x360 with 6 Axes>"
      ]
     },
     "metadata": {
      "needs_background": "light"
     },
     "output_type": "display_data"
    }
   ],
   "source": [
    "store_id = data.groupby(['Store Code' , 'Category']).agg({'Sales Qty': 'sum'}).reset_index()\n",
    "g = sns.catplot(x=\"Category\", y=\"Sales Qty\", col=\"Store Code\", data = store_id, saturation=.5 , kind=\"bar\", aspect=1)"
   ]
  },
  {
   "cell_type": "markdown",
   "metadata": {},
   "source": [
    "### Revenue generated month wise"
   ]
  },
  {
   "cell_type": "code",
   "execution_count": 88,
   "metadata": {},
   "outputs": [
    {
     "data": {
      "image/png": "[encoded data removed]",
      "text/plain": [
       "<Figure size 2160x360 with 6 Axes>"
      ]
     },
     "metadata": {
      "needs_background": "light"
     },
     "output_type": "display_data"
    }
   ],
   "source": [
    "brand_id = data.groupby('month').agg({'amount': 'sum'}).reset_index()\n",
    "g = sns.catplot(x=\"month\", y=\"amount\", col=\"Store Code\", data = data, saturation=.5 , kind=\"bar\", aspect=1)"
   ]
  },
  {
   "cell_type": "markdown",
   "metadata": {},
   "source": [
    "# Interesting\n",
    "1. Only Categor 1 >> Category 7 > Catrgory 4 seems to be generating significant amount of revenue. So my inference is selling these category product should be the focus of stores operating there.\n",
    "2. Category 1 and Category 7 which generated most of the revenue are selling even without lowest % discount among all categories \n",
    "3. Months 3 to 7 are the best months interms of revenue."
   ]
  },
  {
   "cell_type": "markdown",
   "metadata": {},
   "source": [
    "## Inferences\n",
    "1. Maximum selling stores are Store 5 > Store 1 > Store2~Store3~Store4\n",
    "2. Minimum selling store is Store 2 and Store 3\n",
    "3. Revenue is maximum for Store 5 > Store 2 > Store 1\n",
    "4. Despite having very low sales quanity in Store 6, Revenue is significant higher. This mean per unit cost of items in Store 6 is very high.\n",
    "5. Store 6 has highest unit cost (> 60) among all Stores\n",
    "6. Unit cost of Store3 and Store4 are very low (<10)\n",
    "7. Store 2, 5, 6 are significantly dependent upon Cate 01 products for revenue.\n",
    "8. There is not much sense in keeping products from Categories apart from 01, 07 and 04"
   ]
  },
  {
   "cell_type": "markdown",
   "metadata": {},
   "source": [
    "## Analysing Store 5 (HIghest Revenue Store)"
   ]
  },
  {
   "cell_type": "code",
   "execution_count": 125,
   "metadata": {},
   "outputs": [
    {
     "name": "stdout",
     "output_type": "stream",
     "text": [
      "Number of unique Brands in Store 5 : 53\n"
     ]
    }
   ],
   "source": [
    "store_5 = data[data['Store Code'] == 'Store 5']\n",
    "brand_id = store_5.groupby('Brand Code').agg({'amount': 'sum'}).reset_index()\n",
    "print('Number of unique Brands in Store 5 : %d' %(len(brand_id)))"
   ]
  },
  {
   "cell_type": "code",
   "execution_count": 126,
   "metadata": {},
   "outputs": [
    {
     "data": {
      "text/plain": [
       "Text(0.5, 1.0, 'Revenue generated at Store 5 BRAND wise')"
      ]
     },
     "execution_count": 126,
     "metadata": {},
     "output_type": "execute_result"
    },
    {
     "data": {
      "image/png": "[encoded data removed]",
      "text/plain": [
       "<Figure size 432x288 with 1 Axes>"
      ]
     },
     "metadata": {
      "needs_background": "light"
     },
     "output_type": "display_data"
    }
   ],
   "source": [
    "brand_id = brand_id.sort_values('amount').reset_index()\n",
    "brand_id = brand_id.tail(5)\n",
    "plt.bar(brand_id['Brand Code'], brand_id['amount'])\n",
    "plt.xticks(rotation=90)\n",
    "plt.title('Revenue generated at Store 5 BRAND wise')"
   ]
  },
  {
   "cell_type": "code",
   "execution_count": 29,
   "metadata": {
    "scrolled": true
   },
   "outputs": [],
   "source": [
    "disc_amt = discount[discount>0]*100\n",
    "disc_store5 = store_5[store_5['discount']>0]['discount']"
   ]
  },
  {
   "cell_type": "code",
   "execution_count": 151,
   "metadata": {},
   "outputs": [
    {
     "name": "stdout",
     "output_type": "stream",
     "text": [
      "Average discount among all stores if given is 17.128454 percentage\n",
      "Average discount at store 5 if given is 16.328111 percentage\n",
      "Average Sale Price at store 6 is 22.810336 \n"
     ]
    }
   ],
   "source": [
    "print('Average discount among all stores if given is %f percentage'%(np.mean(disc_amt)))\n",
    "print('Average discount at store 5 if given is %f percentage'%(np.mean(disc_store5)))\n",
    "print('Average Sale Price at store 6 is %f '%(np.mean(store_5['Sales Price'])))"
   ]
  },
  {
   "cell_type": "code",
   "execution_count": 31,
   "metadata": {},
   "outputs": [
    {
     "data": {
      "text/plain": [
       "([0, 1, 2, 3, 4, 5, 6, 7, 8, 9], <a list of 10 Text xticklabel objects>)"
      ]
     },
     "execution_count": 31,
     "metadata": {},
     "output_type": "execute_result"
    },
    {
     "data": {
      "image/png": "[encoded data removed]",
      "text/plain": [
       "<Figure size 432x288 with 1 Axes>"
      ]
     },
     "metadata": {
      "needs_background": "light"
     },
     "output_type": "display_data"
    }
   ],
   "source": [
    "brand_id = store_5.groupby('Category').agg({'amount': 'sum'}).reset_index()\n",
    "plt.bar(brand_id['Category'], brand_id['amount'])\n",
    "plt.xticks(rotation=90)"
   ]
  },
  {
   "cell_type": "code",
   "execution_count": 157,
   "metadata": {
    "scrolled": true
   },
   "outputs": [
    {
     "data": {
      "text/plain": [
       "(array([ 0.,  2.,  4.,  6.,  8., 10., 12., 14.]),\n",
       " <a list of 8 Text xticklabel objects>)"
      ]
     },
     "execution_count": 157,
     "metadata": {},
     "output_type": "execute_result"
    },
    {
     "data": {
      "image/png": "[encoded data removed]",
      "text/plain": [
       "<Figure size 432x288 with 1 Axes>"
      ]
     },
     "metadata": {
      "needs_background": "light"
     },
     "output_type": "display_data"
    }
   ],
   "source": [
    "brand_id = store_5.groupby('month').agg({'amount': 'sum'}).reset_index()\n",
    "plt.bar(brand_id['month'], brand_id['amount'])\n",
    "plt.xticks(rotation=90)"
   ]
  },
  {
   "cell_type": "code",
   "execution_count": 158,
   "metadata": {},
   "outputs": [
    {
     "data": {
      "text/plain": [
       "(array([ 0.,  2.,  4.,  6.,  8., 10., 12., 14.]),\n",
       " <a list of 8 Text xticklabel objects>)"
      ]
     },
     "execution_count": 158,
     "metadata": {},
     "output_type": "execute_result"
    },
    {
     "data": {
      "image/png": "[encoded data removed]",
      "text/plain": [
       "<Figure size 432x288 with 1 Axes>"
      ]
     },
     "metadata": {
      "needs_background": "light"
     },
     "output_type": "display_data"
    }
   ],
   "source": [
    "brand_id = store_5.groupby('month').agg({'discount': 'mean'}).reset_index()\n",
    "plt.bar(brand_id['month'], brand_id['discount'])\n",
    "plt.xticks(rotation=90)"
   ]
  },
  {
   "cell_type": "markdown",
   "metadata": {},
   "source": [
    "## Inferences"
   ]
  },
  {
   "cell_type": "markdown",
   "metadata": {},
   "source": [
    "1. Brand **BRAND017** contributes > 70,000 (>23%) in revenue\n",
    "2. Average Cost of items in Store 5 is 23\n",
    "3. Store 5 doesn't give extra ordinary discount to improve sales\n",
    "4. Category 1, 7, somewhat 4 are category products only contributing significantly to revenue.\n",
    "5. Store 5 opend on 1 January 2017 to 28 Feb 2018\n",
    "6. Category 1 and Category 7 are most profitable category to work with. Generating most of the revenues and requiring lowest % discount\n",
    "7. Offers discount generally at start and end months of the year."
   ]
  },
  {
   "cell_type": "markdown",
   "metadata": {},
   "source": [
    "## Analysing Store 6 (Only selling Cate 01 and opened recently)"
   ]
  },
  {
   "cell_type": "code",
   "execution_count": 186,
   "metadata": {},
   "outputs": [
    {
     "name": "stdout",
     "output_type": "stream",
     "text": [
      "Number of unique Brands in Store 6 : 43\n"
     ]
    }
   ],
   "source": [
    "store_6 = data[data['Store Code'] == 'Store 6']\n",
    "brand_id = store_6.groupby('Brand Code').agg({'amount': 'sum'}).reset_index()\n",
    "print('Number of unique Brands in Store 6 : %d' %(len(brand_id)))"
   ]
  },
  {
   "cell_type": "code",
   "execution_count": 143,
   "metadata": {},
   "outputs": [
    {
     "data": {
      "text/plain": [
       "Text(0.5, 1.0, 'Revenue generated at Store 6 BRAND wise')"
      ]
     },
     "execution_count": 143,
     "metadata": {},
     "output_type": "execute_result"
    },
    {
     "data": {
      "image/png": "[encoded data removed]",
      "text/plain": [
       "<Figure size 432x288 with 1 Axes>"
      ]
     },
     "metadata": {
      "needs_background": "light"
     },
     "output_type": "display_data"
    }
   ],
   "source": [
    "brand_id = brand_id.sort_values('amount').reset_index()\n",
    "brand_id = brand_id.tail(5)\n",
    "plt.bar(brand_id['Brand Code'], brand_id['amount'])\n",
    "plt.xticks(rotation=90)\n",
    "plt.title('Revenue generated at Store 6 BRAND wise')"
   ]
  },
  {
   "cell_type": "code",
   "execution_count": 146,
   "metadata": {},
   "outputs": [],
   "source": [
    "disc_store6 = store_6[store_6['discount']>0]['discount']"
   ]
  },
  {
   "cell_type": "code",
   "execution_count": 150,
   "metadata": {},
   "outputs": [
    {
     "name": "stdout",
     "output_type": "stream",
     "text": [
      "Average discount at store 6 if given is 8.367538 perventage\n",
      "Average Sale Price at store 6 is 64.267396 perventage\n"
     ]
    }
   ],
   "source": [
    "print('Average discount at store 6 if given is %f percentage'%(np.mean(disc_store6)))\n",
    "print('Average Sale Price at store 6 is %f '%(np.mean(store_6['Sales Price'])))"
   ]
  },
  {
   "cell_type": "code",
   "execution_count": 148,
   "metadata": {},
   "outputs": [
    {
     "data": {
      "text/plain": [
       "([0, 1, 2, 3, 4, 5, 6], <a list of 7 Text xticklabel objects>)"
      ]
     },
     "execution_count": 148,
     "metadata": {},
     "output_type": "execute_result"
    },
    {
     "data": {
      "image/png": "[encoded data removed]",
      "text/plain": [
       "<Figure size 432x288 with 1 Axes>"
      ]
     },
     "metadata": {
      "needs_background": "light"
     },
     "output_type": "display_data"
    }
   ],
   "source": [
    "brand_id = store_6.groupby('Category').agg({'amount': 'sum'}).reset_index()\n",
    "plt.bar(brand_id['Category'], brand_id['amount'])\n",
    "plt.xticks(rotation=90)"
   ]
  },
  {
   "cell_type": "markdown",
   "metadata": {},
   "source": [
    "## Inferences"
   ]
  },
  {
   "cell_type": "markdown",
   "metadata": {},
   "source": [
    "1. Brand **BRAND003 and 001** are contributing maximum to the revenue\n",
    "2. Average Cost of items in Store 6 is 64\n",
    "3. Store 6 gives  very less % discount as compared to other stores, still manages to get very high reveune.\n",
    "4. Category 1 is only available to store 6\n",
    "5. Store 6 opend on 1 January 2017 to 31 August 2017"
   ]
  },
  {
   "cell_type": "markdown",
   "metadata": {},
   "source": [
    "## Analysing Store 2 (Mostly selling Cate 01 and sencond highest revenue)"
   ]
  },
  {
   "cell_type": "code",
   "execution_count": 179,
   "metadata": {},
   "outputs": [
    {
     "name": "stdout",
     "output_type": "stream",
     "text": [
      "Number of unique Brands in Store 2 : 46\n"
     ]
    }
   ],
   "source": [
    "store_2 = data[data['Store Code'] == 'Store 2']\n",
    "brand_id = store_2.groupby('Brand Code').agg({'amount': 'sum'}).reset_index()\n",
    "print('Number of unique Brands in Store 2 : %d' %(len(brand_id)))"
   ]
  },
  {
   "cell_type": "code",
   "execution_count": 180,
   "metadata": {},
   "outputs": [
    {
     "data": {
      "text/plain": [
       "Text(0.5, 1.0, 'Revenue generated at Store 6 BRAND wise')"
      ]
     },
     "execution_count": 180,
     "metadata": {},
     "output_type": "execute_result"
    },
    {
     "data": {
      "image/png": "[encoded data removed]",
      "text/plain": [
       "<Figure size 432x288 with 1 Axes>"
      ]
     },
     "metadata": {
      "needs_background": "light"
     },
     "output_type": "display_data"
    }
   ],
   "source": [
    "brand_id = brand_id.sort_values('amount').reset_index()\n",
    "brand_id = brand_id.tail(5)\n",
    "plt.bar(brand_id['Brand Code'], brand_id['amount'])\n",
    "plt.xticks(rotation=90)\n",
    "plt.title('Revenue generated at Store 6 BRAND wise')"
   ]
  },
  {
   "cell_type": "code",
   "execution_count": 181,
   "metadata": {},
   "outputs": [],
   "source": [
    "disc_store2 = store_2[store_2['discount']>0]['discount']"
   ]
  },
  {
   "cell_type": "code",
   "execution_count": 182,
   "metadata": {},
   "outputs": [
    {
     "name": "stdout",
     "output_type": "stream",
     "text": [
      "Average discount at store 2 if given is 18.540070 percentage\n",
      "Average Sale Price at store 2 is 33.776030 \n"
     ]
    }
   ],
   "source": [
    "print('Average discount at store 2 if given is %f percentage'%(np.mean(disc_store2)))\n",
    "print('Average Sale Price at store 2 is %f '%(np.mean(store_2['Sales Price'])))"
   ]
  },
  {
   "cell_type": "code",
   "execution_count": 183,
   "metadata": {},
   "outputs": [
    {
     "data": {
      "text/plain": [
       "([0, 1, 2, 3, 4, 5, 6, 7, 8], <a list of 9 Text xticklabel objects>)"
      ]
     },
     "execution_count": 183,
     "metadata": {},
     "output_type": "execute_result"
    },
    {
     "data": {
      "image/png": "[encoded data removed]",
      "text/plain": [
       "<Figure size 432x288 with 1 Axes>"
      ]
     },
     "metadata": {
      "needs_background": "light"
     },
     "output_type": "display_data"
    }
   ],
   "source": [
    "brand_id = store_2.groupby('Category').agg({'amount': 'sum'}).reset_index()\n",
    "plt.bar(brand_id['Category'], brand_id['amount'])\n",
    "plt.xticks(rotation=90)"
   ]
  },
  {
   "cell_type": "code",
   "execution_count": 190,
   "metadata": {},
   "outputs": [
    {
     "data": {
      "image/png": "[encoded data removed]",
      "text/plain": [
       "<Figure size 432x288 with 1 Axes>"
      ]
     },
     "metadata": {
      "needs_background": "light"
     },
     "output_type": "display_data"
    }
   ],
   "source": [
    "brand_6 = store_6.groupby('month').agg({'amount': 'mean'}).reset_index()\n",
    "brand_5 = store_5.groupby('month').agg({'amount': 'mean'}).reset_index()\n",
    "brand_2 = store_2.groupby('month').agg({'amount': 'mean'}).reset_index()\n",
    "\n",
    "w=0.2\n",
    "ax = plt.subplot(111)\n",
    "ax.bar(brand_6.month-w, brand_6.amount, width=0.2, color='b', align='center')\n",
    "ax.bar(brand_5.month, brand_5.amount, width=0.2, color='r', align='center')\n",
    "ax.bar(brand_2.month+w, brand_2.amount, width=0.2, color='y', align='center')\n",
    "\n",
    "plt.show()"
   ]
  },
  {
   "cell_type": "code",
   "execution_count": 197,
   "metadata": {},
   "outputs": [
    {
     "data": {
      "image/png": "[encoded data removed]",
      "text/plain": [
       "<Figure size 432x288 with 1 Axes>"
      ]
     },
     "metadata": {
      "needs_background": "light"
     },
     "output_type": "display_data"
    }
   ],
   "source": [
    "brand_6 = store_6[store_6['discount']>0].groupby('month').agg({'discount': 'mean'}).reset_index()\n",
    "brand_5 = store_5[store_5['discount']>0].groupby('month').agg({'discount': 'mean'}).reset_index()\n",
    "brand_2 = store_2[store_2['discount']>0].groupby('month').agg({'discount': 'mean'}).reset_index()\n",
    "\n",
    "w=0.2\n",
    "ax = plt.subplot(111)\n",
    "ax.bar(brand_6.month-w, brand_6.discount, width=0.2, color='b', align='center')\n",
    "ax.bar(brand_5.month, brand_5.discount, width=0.2, color='r', align='center')\n",
    "ax.bar(brand_2.month+w, brand_2.discount, width=0.2, color='y', align='center')\n",
    "\n",
    "plt.show()"
   ]
  },
  {
   "cell_type": "markdown",
   "metadata": {},
   "source": [
    "# Interesting observations\n",
    "1. Store 5 and Store 2 are very competitive shops if are located nearby.\n",
    "2. Store 5/2 and Store 6 are stagetically giving discount(discount sale) such that their offers don't overlap.\n",
    "3. Store 5 and Store 2 are giving huge discount at the end and starting of each year."
   ]
  },
  {
   "cell_type": "markdown",
   "metadata": {},
   "source": [
    "### Inferences"
   ]
  },
  {
   "cell_type": "markdown",
   "metadata": {},
   "source": [
    "1. Brand **BRAND003 and 001** are contributing maximum to the revenue\n",
    "2. Average Cost of items in Store 2 is 34\n",
    "3. Store 2 gives high % discount as compared to other stores\n",
    "4. Category 1 is majorly selling at store 2\n",
    "5. Store 2 opend on 1 March 2017 to 28 February 2017"
   ]
  },
  {
   "cell_type": "markdown",
   "metadata": {},
   "source": [
    "## Analyzing Category 1 and Category 7"
   ]
  },
  {
   "cell_type": "code",
   "execution_count": 103,
   "metadata": {},
   "outputs": [],
   "source": [
    "cate1 = data[data.Category=='Cat01']\n",
    "cate7 = data[data.Category=='Cat07']"
   ]
  },
  {
   "cell_type": "code",
   "execution_count": 104,
   "metadata": {},
   "outputs": [
    {
     "data": {
      "text/html": [
       "<div>\n",
       "<style scoped>\n",
       "    .dataframe tbody tr th:only-of-type {\n",
       "        vertical-align: middle;\n",
       "    }\n",
       "\n",
       "    .dataframe tbody tr th {\n",
       "        vertical-align: top;\n",
       "    }\n",
       "\n",
       "    .dataframe thead th {\n",
       "        text-align: right;\n",
       "    }\n",
       "</style>\n",
       "<table border=\"1\" class=\"dataframe\">\n",
       "  <thead>\n",
       "    <tr style=\"text-align: right;\">\n",
       "      <th></th>\n",
       "      <th>SKU Code</th>\n",
       "      <th>Brand Code</th>\n",
       "      <th>Category</th>\n",
       "      <th>Bill Number</th>\n",
       "      <th>Store Code</th>\n",
       "      <th>Sale Date</th>\n",
       "      <th>Sale/Return</th>\n",
       "      <th>MRP</th>\n",
       "      <th>Sales Price</th>\n",
       "      <th>Sales Qty</th>\n",
       "      <th>discount</th>\n",
       "      <th>amount</th>\n",
       "      <th>date</th>\n",
       "      <th>month</th>\n",
       "    </tr>\n",
       "  </thead>\n",
       "  <tbody>\n",
       "    <tr>\n",
       "      <th>1</th>\n",
       "      <td>SKU0457</td>\n",
       "      <td>BRAND011</td>\n",
       "      <td>Cat01</td>\n",
       "      <td>BILL06416</td>\n",
       "      <td>Store 1</td>\n",
       "      <td>2017-05-22</td>\n",
       "      <td>Sale</td>\n",
       "      <td>72.67</td>\n",
       "      <td>72.67</td>\n",
       "      <td>2</td>\n",
       "      <td>0.0</td>\n",
       "      <td>145.34</td>\n",
       "      <td>2017-05-22</td>\n",
       "      <td>5</td>\n",
       "    </tr>\n",
       "    <tr>\n",
       "      <th>13</th>\n",
       "      <td>SKU1888</td>\n",
       "      <td>BRAND022</td>\n",
       "      <td>Cat01</td>\n",
       "      <td>BILL06427</td>\n",
       "      <td>Store 1</td>\n",
       "      <td>2017-07-02</td>\n",
       "      <td>Sale</td>\n",
       "      <td>56.67</td>\n",
       "      <td>56.67</td>\n",
       "      <td>1</td>\n",
       "      <td>0.0</td>\n",
       "      <td>56.67</td>\n",
       "      <td>2017-06-26</td>\n",
       "      <td>7</td>\n",
       "    </tr>\n",
       "    <tr>\n",
       "      <th>14</th>\n",
       "      <td>SKU1889</td>\n",
       "      <td>BRAND047</td>\n",
       "      <td>Cat01</td>\n",
       "      <td>BILL06428</td>\n",
       "      <td>Store 1</td>\n",
       "      <td>2017-07-02</td>\n",
       "      <td>Sale</td>\n",
       "      <td>100.33</td>\n",
       "      <td>100.33</td>\n",
       "      <td>1</td>\n",
       "      <td>0.0</td>\n",
       "      <td>100.33</td>\n",
       "      <td>2017-06-26</td>\n",
       "      <td>7</td>\n",
       "    </tr>\n",
       "    <tr>\n",
       "      <th>19</th>\n",
       "      <td>SKU0378</td>\n",
       "      <td>BRAND002</td>\n",
       "      <td>Cat01</td>\n",
       "      <td>BILL06431</td>\n",
       "      <td>Store 1</td>\n",
       "      <td>2017-07-02</td>\n",
       "      <td>Sale</td>\n",
       "      <td>111.67</td>\n",
       "      <td>111.67</td>\n",
       "      <td>1</td>\n",
       "      <td>0.0</td>\n",
       "      <td>111.67</td>\n",
       "      <td>2017-06-26</td>\n",
       "      <td>7</td>\n",
       "    </tr>\n",
       "    <tr>\n",
       "      <th>28</th>\n",
       "      <td>SKU0158</td>\n",
       "      <td>BRAND001</td>\n",
       "      <td>Cat01</td>\n",
       "      <td>BILL06437</td>\n",
       "      <td>Store 1</td>\n",
       "      <td>2017-05-28</td>\n",
       "      <td>Sale</td>\n",
       "      <td>80.67</td>\n",
       "      <td>80.67</td>\n",
       "      <td>1</td>\n",
       "      <td>0.0</td>\n",
       "      <td>80.67</td>\n",
       "      <td>2017-05-22</td>\n",
       "      <td>5</td>\n",
       "    </tr>\n",
       "  </tbody>\n",
       "</table>\n",
       "</div>"
      ],
      "text/plain": [
       "   SKU Code Brand Code Category Bill Number Store Code  Sale Date Sale/Return  \\\n",
       "1   SKU0457   BRAND011    Cat01   BILL06416    Store 1 2017-05-22        Sale   \n",
       "13  SKU1888   BRAND022    Cat01   BILL06427    Store 1 2017-07-02        Sale   \n",
       "14  SKU1889   BRAND047    Cat01   BILL06428    Store 1 2017-07-02        Sale   \n",
       "19  SKU0378   BRAND002    Cat01   BILL06431    Store 1 2017-07-02        Sale   \n",
       "28  SKU0158   BRAND001    Cat01   BILL06437    Store 1 2017-05-28        Sale   \n",
       "\n",
       "       MRP  Sales Price  Sales Qty  discount  amount       date  month  \n",
       "1    72.67        72.67          2       0.0  145.34 2017-05-22      5  \n",
       "13   56.67        56.67          1       0.0   56.67 2017-06-26      7  \n",
       "14  100.33       100.33          1       0.0  100.33 2017-06-26      7  \n",
       "19  111.67       111.67          1       0.0  111.67 2017-06-26      7  \n",
       "28   80.67        80.67          1       0.0   80.67 2017-05-22      5  "
      ]
     },
     "execution_count": 104,
     "metadata": {},
     "output_type": "execute_result"
    }
   ],
   "source": [
    "cate1.head()"
   ]
  },
  {
   "cell_type": "code",
   "execution_count": 105,
   "metadata": {},
   "outputs": [
    {
     "name": "stdout",
     "output_type": "stream",
     "text": [
      "Average unit price of cate 1 product is 65.100792\n",
      "Average unit price of cate 7 product is 16.779458\n"
     ]
    }
   ],
   "source": [
    "print('Average unit price of cate 1 product is %f'%(cate1['Sales Price'].mean()))\n",
    "print('Average unit price of cate 7 product is %f'%(cate7['Sales Price'].mean()))"
   ]
  },
  {
   "cell_type": "code",
   "execution_count": 136,
   "metadata": {},
   "outputs": [
    {
     "name": "stdout",
     "output_type": "stream",
     "text": [
      "Average discount of cate 1 product if giving is 17.358999\n",
      "Average discount of cate 7 product if giving is 15.418173\n"
     ]
    }
   ],
   "source": [
    "print('Average discount of cate 1 product if giving is %f'%(cate1[cate1.discount > 0].discount.mean()))\n",
    "print('Average discount of cate 7 product if giving is %f'%(cate7[cate7.discount > 0].discount.mean()))"
   ]
  },
  {
   "cell_type": "code",
   "execution_count": 132,
   "metadata": {},
   "outputs": [
    {
     "data": {
      "text/plain": [
       "([0, 1, 2, 3, 4, 5, 6, 7, 8, 9], <a list of 10 Text xticklabel objects>)"
      ]
     },
     "execution_count": 132,
     "metadata": {},
     "output_type": "execute_result"
    },
    {
     "data": {
      "image/png": "[encoded data removed]",
      "text/plain": [
       "<Figure size 432x288 with 1 Axes>"
      ]
     },
     "metadata": {
      "needs_background": "light"
     },
     "output_type": "display_data"
    }
   ],
   "source": [
    "brand_id = cate1.groupby('Brand Code').agg({'amount': 'sum'}).reset_index()\n",
    "brand_id = brand_id.sort_values('amount')\n",
    "brand_id = brand_id.tail(10)\n",
    "plt.bar(brand_id['Brand Code'], brand_id.amount)\n",
    "plt.xticks(rotation=90)"
   ]
  },
  {
   "cell_type": "code",
   "execution_count": 133,
   "metadata": {},
   "outputs": [
    {
     "data": {
      "text/plain": [
       "([0, 1, 2, 3, 4, 5, 6, 7, 8, 9], <a list of 10 Text xticklabel objects>)"
      ]
     },
     "execution_count": 133,
     "metadata": {},
     "output_type": "execute_result"
    },
    {
     "data": {
      "image/png": "[encoded data removed]",
      "text/plain": [
       "<Figure size 432x288 with 1 Axes>"
      ]
     },
     "metadata": {
      "needs_background": "light"
     },
     "output_type": "display_data"
    }
   ],
   "source": [
    "brand_id = cate7.groupby('Brand Code').agg({'amount': 'sum'}).reset_index()\n",
    "brand_id = brand_id.sort_values('amount')\n",
    "brand_id = brand_id.tail(10)\n",
    "plt.bar(brand_id['Brand Code'], brand_id.amount)\n",
    "plt.xticks(rotation=90)"
   ]
  },
  {
   "cell_type": "markdown",
   "metadata": {},
   "source": [
    "## Inferences"
   ]
  },
  {
   "cell_type": "markdown",
   "metadata": {},
   "source": [
    "1. Brand 001 and Brand 003 are the most revenue generating brands in Cate 1 while Brand 017 and Brand 018 are the most revenue generating brands in Cate 7\n",
    "\n",
    "## 2. It is to be carefully observed that since Cate 7 is giving high revenue even with lower unit price, any slight variation in market price of this category might result is drastic change in revenue of stores"
   ]
  },
  {
   "cell_type": "code",
   "execution_count": null,
   "metadata": {},
   "outputs": [],
   "source": []
  },
  {
   "cell_type": "code",
   "execution_count": null,
   "metadata": {},
   "outputs": [],
   "source": []
  }
 ],
 "metadata": {
  "kernelspec": {
   "display_name": "Python 3",
   "language": "python",
   "name": "python3"
  },
  "language_info": {
   "codemirror_mode": {
    "name": "ipython",
    "version": 3
   },
   "file_extension": ".py",
   "mimetype": "text/x-python",
   "name": "python",
   "nbconvert_exporter": "python",
   "pygments_lexer": "ipython3",
   "version": "3.6.8"
  }
 },
 "nbformat": 4,
 "nbformat_minor": 2
}
